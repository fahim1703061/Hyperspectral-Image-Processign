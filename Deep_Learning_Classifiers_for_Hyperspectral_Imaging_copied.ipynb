{
  "nbformat": 4,
  "nbformat_minor": 0,
  "metadata": {
    "colab": {
      "provenance": [],
      "authorship_tag": "ABX9TyNblrndnFM2z0lByvU8i0pW",
      "include_colab_link": true
    },
    "kernelspec": {
      "name": "python3",
      "display_name": "Python 3"
    },
    "language_info": {
      "name": "python"
    }
  },
  "cells": [
    {
      "cell_type": "markdown",
      "metadata": {
        "id": "view-in-github",
        "colab_type": "text"
      },
      "source": [
        "<a href=\"https://colab.research.google.com/github/fahim1703061/Hyperspectral-Image-Processing/blob/main/Deep_Learning_Classifiers_for_Hyperspectral_Imaging_copied.ipynb\" target=\"_parent\"><img src=\"https://colab.research.google.com/assets/colab-badge.svg\" alt=\"Open In Colab\"/></a>"
      ]
    },
    {
      "cell_type": "markdown",
      "source": [
        "review paper on deeplearning https://github.com/mhaut/hyperspectral_deeplearning_review"
      ],
      "metadata": {
        "id": "hhLvGx_MErlW"
      }
    },
    {
      "cell_type": "markdown",
      "source": [
        "copyed colab link https://colab.research.google.com/drive/16Fq0HFHA_yYqK1kIP1v11CQu5vdN4n9q#scrollTo=7MGzLOZSHzYd"
      ],
      "metadata": {
        "id": "AgmlHd8GIJrS"
      }
    },
    {
      "cell_type": "code",
      "execution_count": 1,
      "metadata": {
        "colab": {
          "base_uri": "https://localhost:8080/"
        },
        "id": "C4ZhDa2SEeyg",
        "outputId": "614685af-f0af-406e-9090-044b4bae9ee7"
      },
      "outputs": [
        {
          "output_type": "stream",
          "name": "stdout",
          "text": [
            "Cloning into 'hyperspectral_deeplearning_review'...\n",
            "remote: Enumerating objects: 76, done.\u001b[K\n",
            "remote: Counting objects: 100% (66/66), done.\u001b[K\n",
            "remote: Compressing objects: 100% (45/45), done.\u001b[K\n",
            "remote: Total 76 (delta 42), reused 35 (delta 20), pack-reused 10\u001b[K\n",
            "Unpacking objects: 100% (76/76), 292.02 KiB | 3.60 MiB/s, done.\n",
            "Submodule 'HSI-datasets' (https://github.com/mhaut/HSI-datasets) registered for path 'HSI-datasets'\n",
            "Cloning into '/content/hyperspectral_deeplearning_review/HSI-datasets'...\n",
            "remote: Enumerating objects: 75, done.        \n",
            "remote: Total 75 (delta 0), reused 0 (delta 0), pack-reused 75        \n",
            "Submodule path 'HSI-datasets': checked out 'fb174b21144c2248ed53fc8ece8072eba1445627'\n"
          ]
        }
      ],
      "source": [
        "!git clone --recursive https://github.com/mhaut/hyperspectral_deeplearning_review/"
      ]
    },
    {
      "cell_type": "code",
      "source": [
        "%cd '/content/hyperspectral_deeplearning_review/HSI-datasets'\n",
        "!pwd"
      ],
      "metadata": {
        "colab": {
          "base_uri": "https://localhost:8080/"
        },
        "id": "jCo8d3RpFVKc",
        "outputId": "f7346f07-d73b-40cc-e917-641ca834e39b"
      },
      "execution_count": 2,
      "outputs": [
        {
          "output_type": "stream",
          "name": "stdout",
          "text": [
            "/content/hyperspectral_deeplearning_review/HSI-datasets\n",
            "/content/hyperspectral_deeplearning_review/HSI-datasets\n"
          ]
        }
      ]
    },
    {
      "cell_type": "code",
      "source": [
        "!python join_dsets.py"
      ],
      "metadata": {
        "id": "9KlU1Xy5FfK1"
      },
      "execution_count": 3,
      "outputs": []
    },
    {
      "cell_type": "code",
      "source": [
        "%cd '/content/hyperspectral_deeplearning_review/algorithms'\n",
        "!pwd"
      ],
      "metadata": {
        "colab": {
          "base_uri": "https://localhost:8080/"
        },
        "id": "fKDs_ZesFHuo",
        "outputId": "e3250119-b9b0-4051-e9f2-fd308488a315"
      },
      "execution_count": 4,
      "outputs": [
        {
          "output_type": "stream",
          "name": "stdout",
          "text": [
            "/content/hyperspectral_deeplearning_review/algorithms\n",
            "/content/hyperspectral_deeplearning_review/algorithms\n"
          ]
        }
      ]
    },
    {
      "cell_type": "code",
      "source": [
        "!python svm.py --dataset IP --tr_percent 0.15"
      ],
      "metadata": {
        "colab": {
          "base_uri": "https://localhost:8080/"
        },
        "id": "7MGzLOZSHzYd",
        "outputId": "eaf9fce3-e095-4518-e67a-07b99653cbf1"
      },
      "execution_count": 5,
      "outputs": [
        {
          "output_type": "stream",
          "name": "stdout",
          "text": [
            "[83.67581219 79.58317184 81.34757705 69.23076923 80.47775947 66.09929078\n",
            " 53.73134328 91.72749392 97.26247987 83.33333333 99.01477833 41.17647059\n",
            " 79.4188862  83.80450407 82.53968254 98.85057471 95.90697674 63.41463415\n",
            " 87.34177215]\n"
          ]
        }
      ]
    },
    {
      "cell_type": "code",
      "source": [
        "!python cnn1d.py --dataset IP"
      ],
      "metadata": {
        "colab": {
          "base_uri": "https://localhost:8080/"
        },
        "id": "O05-CdBtIXLm",
        "outputId": "0a12dd4e-c0e6-46a3-e0fe-92217411bd69"
      },
      "execution_count": 6,
      "outputs": [
        {
          "output_type": "stream",
          "name": "stdout",
          "text": [
            "2023-02-28 17:46:16.920979: I tensorflow/core/platform/cpu_feature_guard.cc:193] This TensorFlow binary is optimized with oneAPI Deep Neural Network Library (oneDNN) to use the following CPU instructions in performance-critical operations:  AVX2 FMA\n",
            "To enable them in other operations, rebuild TensorFlow with the appropriate compiler flags.\n",
            "2023-02-28 17:46:18.610682: W tensorflow/compiler/xla/stream_executor/platform/default/dso_loader.cc:64] Could not load dynamic library 'libnvinfer.so.7'; dlerror: libnvinfer.so.7: cannot open shared object file: No such file or directory; LD_LIBRARY_PATH: /usr/local/nvidia/lib:/usr/local/nvidia/lib64\n",
            "2023-02-28 17:46:18.610882: W tensorflow/compiler/xla/stream_executor/platform/default/dso_loader.cc:64] Could not load dynamic library 'libnvinfer_plugin.so.7'; dlerror: libnvinfer_plugin.so.7: cannot open shared object file: No such file or directory; LD_LIBRARY_PATH: /usr/local/nvidia/lib:/usr/local/nvidia/lib64\n",
            "2023-02-28 17:46:18.610909: W tensorflow/compiler/tf2tensorrt/utils/py_utils.cc:38] TF-TRT Warning: Cannot dlopen some TensorRT libraries. If you would like to use Nvidia GPU with TensorRT, please make sure the missing libraries mentioned above are installed properly.\n",
            "2023-02-28 17:46:20.437537: E tensorflow/compiler/xla/stream_executor/cuda/cuda_driver.cc:267] failed call to cuInit: CUDA_ERROR_NO_DEVICE: no CUDA-capable device is detected\n",
            "PARAMETERS 72616\n",
            "273/273 [==============================] - 1s 4ms/step\n",
            "IP [84.26127884284239, 79.47856919359727, 82.01557603458602, 33.33333333333333, 79.9835255354201, 74.32624113475177, 65.17412935323384, 87.34793187347933, 97.74557165861513, 62.5, 98.76847290640394, 76.47058823529412, 78.20823244552058, 83.94825107810254, 83.53174603174604, 98.85057471264368, 96.0, 64.32926829268293, 91.13924050632912]\n"
          ]
        }
      ]
    },
    {
      "cell_type": "code",
      "source": [
        "!python cnn1d.py --dataset IP --components 40  --set_parameters --epochs 100 --batch_size 32 --use_val --val_percent 0.10"
      ],
      "metadata": {
        "colab": {
          "base_uri": "https://localhost:8080/"
        },
        "id": "Sah3Lj_-IeX1",
        "outputId": "f309ffe4-4f90-4a91-ad05-9383fb426a65"
      },
      "execution_count": 8,
      "outputs": [
        {
          "output_type": "stream",
          "name": "stdout",
          "text": [
            "2023-02-28 18:04:33.014234: I tensorflow/core/platform/cpu_feature_guard.cc:193] This TensorFlow binary is optimized with oneAPI Deep Neural Network Library (oneDNN) to use the following CPU instructions in performance-critical operations:  AVX2 FMA\n",
            "To enable them in other operations, rebuild TensorFlow with the appropriate compiler flags.\n",
            "2023-02-28 18:04:34.396015: W tensorflow/compiler/xla/stream_executor/platform/default/dso_loader.cc:64] Could not load dynamic library 'libnvinfer.so.7'; dlerror: libnvinfer.so.7: cannot open shared object file: No such file or directory; LD_LIBRARY_PATH: /usr/local/nvidia/lib:/usr/local/nvidia/lib64\n",
            "2023-02-28 18:04:34.396174: W tensorflow/compiler/xla/stream_executor/platform/default/dso_loader.cc:64] Could not load dynamic library 'libnvinfer_plugin.so.7'; dlerror: libnvinfer_plugin.so.7: cannot open shared object file: No such file or directory; LD_LIBRARY_PATH: /usr/local/nvidia/lib:/usr/local/nvidia/lib64\n",
            "2023-02-28 18:04:34.396198: W tensorflow/compiler/tf2tensorrt/utils/py_utils.cc:38] TF-TRT Warning: Cannot dlopen some TensorRT libraries. If you would like to use Nvidia GPU with TensorRT, please make sure the missing libraries mentioned above are installed properly.\n",
            "2023-02-28 18:04:37.967937: E tensorflow/compiler/xla/stream_executor/cuda/cuda_driver.cc:267] failed call to cuInit: CUDA_ERROR_NO_DEVICE: no CUDA-capable device is detected\n",
            "PARAMETERS 8616\n",
            "245/245 [==============================] - 0s 1ms/step\n",
            "IP [65.72266870774334, 57.517777855680485, 60.79743596229052, 17.142857142857142, 65.5992680695334, 36.1198738170347, 22.65193370165746, 73.24324324324324, 88.19320214669052, 45.45454545454545, 93.69863013698631, 20.0, 61.776581426648725, 67.67838125665602, 46.25550660792951, 82.80254777070064, 83.45398138572907, 35.932203389830505, 80.28169014084507]\n"
          ]
        }
      ]
    },
    {
      "cell_type": "code",
      "source": [
        "!python cnn2d.py --dataset IP --components 40  --set_parameters --epochs 100 --batch_size 32 --use_val --val_percent 0.10"
      ],
      "metadata": {
        "colab": {
          "base_uri": "https://localhost:8080/"
        },
        "id": "CMU3j-wiM5Se",
        "outputId": "26cffe32-4c00-4a7a-dc84-1dc9a2a33ff9"
      },
      "execution_count": 9,
      "outputs": [
        {
          "output_type": "stream",
          "name": "stdout",
          "text": [
            "2023-02-28 18:05:55.475373: I tensorflow/core/platform/cpu_feature_guard.cc:193] This TensorFlow binary is optimized with oneAPI Deep Neural Network Library (oneDNN) to use the following CPU instructions in performance-critical operations:  AVX2 FMA\n",
            "To enable them in other operations, rebuild TensorFlow with the appropriate compiler flags.\n",
            "2023-02-28 18:05:56.823694: W tensorflow/compiler/xla/stream_executor/platform/default/dso_loader.cc:64] Could not load dynamic library 'libnvinfer.so.7'; dlerror: libnvinfer.so.7: cannot open shared object file: No such file or directory; LD_LIBRARY_PATH: /usr/local/nvidia/lib:/usr/local/nvidia/lib64\n",
            "2023-02-28 18:05:56.823833: W tensorflow/compiler/xla/stream_executor/platform/default/dso_loader.cc:64] Could not load dynamic library 'libnvinfer_plugin.so.7'; dlerror: libnvinfer_plugin.so.7: cannot open shared object file: No such file or directory; LD_LIBRARY_PATH: /usr/local/nvidia/lib:/usr/local/nvidia/lib64\n",
            "2023-02-28 18:05:56.823856: W tensorflow/compiler/tf2tensorrt/utils/py_utils.cc:38] TF-TRT Warning: Cannot dlopen some TensorRT libraries. If you would like to use Nvidia GPU with TensorRT, please make sure the missing libraries mentioned above are installed properly.\n",
            "2023-02-28 18:06:05.070189: E tensorflow/compiler/xla/stream_executor/cuda/cuda_driver.cc:267] failed call to cuInit: CUDA_ERROR_NO_DEVICE: no CUDA-capable device is detected\n",
            "PARAMETERS 426866\n",
            "245/245 [==============================] - 10s 40ms/step\n",
            "IP [98.902921290981, 97.84956508430693, 98.7492667767246, 80.0, 98.81061299176578, 100.0, 100.0, 94.86486486486486, 99.6422182468694, 100.0, 100.0, 100.0, 99.0578734858681, 99.36102236421725, 94.49339207048459, 99.36305732484077, 100.0, 100.0, 100.0]\n"
          ]
        }
      ]
    },
    {
      "cell_type": "code",
      "source": [
        "!python cnn2d.py --dataset IP --components 40  --set_parameters --epochs 90 --batch_size 32 --use_val --val_percent 0.10"
      ],
      "metadata": {
        "colab": {
          "base_uri": "https://localhost:8080/"
        },
        "id": "7aY9OpU4Rnv2",
        "outputId": "95b05679-1079-4d82-c425-15dbfa8e0d2a"
      },
      "execution_count": 17,
      "outputs": [
        {
          "output_type": "stream",
          "name": "stdout",
          "text": [
            "^C\n"
          ]
        }
      ]
    }
  ]
}