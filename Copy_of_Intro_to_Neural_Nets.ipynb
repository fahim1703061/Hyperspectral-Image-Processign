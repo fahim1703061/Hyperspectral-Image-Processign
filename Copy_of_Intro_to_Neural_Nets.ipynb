{
  "cells": [
    {
      "cell_type": "markdown",
      "metadata": {
        "id": "view-in-github",
        "colab_type": "text"
      },
      "source": [
        "<a href=\"https://colab.research.google.com/github/fahim1703061/Hyperspectral-Image-Processing/blob/main/Copy_of_Intro_to_Neural_Nets.ipynb\" target=\"_parent\"><img src=\"https://colab.research.google.com/assets/colab-badge.svg\" alt=\"Open In Colab\"/></a>"
      ]
    },
    {
      "cell_type": "code",
      "execution_count": 3,
      "metadata": {
        "id": "wDlWLbfkJtvu"
      },
      "outputs": [],
      "source": [
        "#@title Copyright 2020 Google LLC. Double-click here for license information.\n",
        "# Licensed under the Apache License, Version 2.0 (the \"License\");\n",
        "# you may not use this file except in compliance with the License.\n",
        "# You may obtain a copy of the License at\n",
        "#\n",
        "# https://www.apache.org/licenses/LICENSE-2.0\n",
        "#\n",
        "# Unless required by applicable law or agreed to in writing, software\n",
        "# distributed under the License is distributed on an \"AS IS\" BASIS,\n",
        "# WITHOUT WARRANTIES OR CONDITIONS OF ANY KIND, either express or implied.\n",
        "# See the License for the specific language governing permissions and\n",
        "# limitations under the License."
      ]
    },
    {
      "cell_type": "markdown",
      "metadata": {
        "id": "T4r2z30vJSbA"
      },
      "source": [
        "# Colabs\n",
        "\n",
        "Machine Learning Crash Course uses Colaboratories (Colabs) for all programming exercises. Colab is Google's implementation of [Jupyter Notebook](https://jupyter.org/). For more information about Colabs and how to use them, go to [Welcome to Colaboratory](https://research.google.com/colaboratory)."
      ]
    },
    {
      "cell_type": "markdown",
      "metadata": {
        "id": "TL5y5fY9Jy_x"
      },
      "source": [
        "# Introduction to Neural Nets\n",
        "\n",
        "This Colab builds a deep neural network to perform more sophisticated linear regression than the earlier Colabs."
      ]
    },
    {
      "cell_type": "markdown",
      "metadata": {
        "id": "7RDY3EeAluPd"
      },
      "source": [
        "## Learning Objectives:\n",
        "\n",
        "After doing this Colab, you'll know how to do the following:\n",
        "\n",
        "  * Create a simple deep neural network.\n",
        "  * Tune the hyperparameters for a simple deep neural network."
      ]
    },
    {
      "cell_type": "markdown",
      "metadata": {
        "id": "XGj0PNaJlubZ"
      },
      "source": [
        "## The Dataset\n",
        "  \n",
        "Like several of the previous Colabs, this Colab uses the [California Housing Dataset](https://developers.google.com/machine-learning/crash-course/california-housing-data-description)."
      ]
    },
    {
      "cell_type": "markdown",
      "metadata": {
        "id": "xchnxAsaKKqO"
      },
      "source": [
        "## Import relevant modules\n",
        "\n",
        "The following hidden code cell imports the necessary code to run the code in the rest of this Colaboratory."
      ]
    },
    {
      "cell_type": "code",
      "execution_count": 4,
      "metadata": {
        "id": "9n9_cTveKmse",
        "colab": {
          "base_uri": "https://localhost:8080/"
        },
        "outputId": "2e034eb7-97f8-416c-e4f1-c9f4fd53c3cd"
      },
      "outputs": [
        {
          "output_type": "stream",
          "name": "stdout",
          "text": [
            "Imported modules.\n"
          ]
        }
      ],
      "source": [
        "#@title Import relevant modules\n",
        "import numpy as np\n",
        "import pandas as pd\n",
        "import tensorflow as tf\n",
        "from tensorflow.keras import layers\n",
        "from matplotlib import pyplot as plt\n",
        "import seaborn as sns\n",
        "\n",
        "# The following lines adjust the granularity of reporting. \n",
        "pd.options.display.max_rows = 10\n",
        "pd.options.display.float_format = \"{:.1f}\".format\n",
        "\n",
        "print(\"Imported modules.\")"
      ]
    },
    {
      "cell_type": "markdown",
      "metadata": {
        "id": "X_TaJhU4KcuY"
      },
      "source": [
        "## Load the dataset\n",
        "\n",
        "Like most of the previous Colab exercises, this exercise uses the California Housing Dataset.  The following code cell loads the separate .csv files and creates the following two pandas DataFrames:\n",
        "\n",
        "* `train_df`, which contains the training set\n",
        "* `test_df`, which contains the test set\n",
        "   "
      ]
    },
    {
      "cell_type": "code",
      "execution_count": 5,
      "metadata": {
        "id": "JZlvdpyYKx7V"
      },
      "outputs": [],
      "source": [
        "train_df = pd.read_csv(\"https://download.mlcc.google.com/mledu-datasets/california_housing_train.csv\")\n",
        "train_df = train_df.reindex(np.random.permutation(train_df.index)) # shuffle the examples\n",
        "test_df = pd.read_csv(\"https://download.mlcc.google.com/mledu-datasets/california_housing_test.csv\")"
      ]
    },
    {
      "cell_type": "markdown",
      "metadata": {
        "id": "8ldP-5z1B2vL"
      },
      "source": [
        "## Normalize values\n",
        "\n",
        "When building a model with multiple features, the values of each feature should cover roughly the same range.  The following code cell normalizes datasets by converting each raw value to its Z-score. (For more information about Z-scores, see the Classification exercise.)"
      ]
    },
    {
      "cell_type": "code",
      "execution_count": 6,
      "metadata": {
        "id": "g8HC-TDgB1D1",
        "colab": {
          "base_uri": "https://localhost:8080/"
        },
        "outputId": "5349100f-4d85-4ce9-b5e5-599df696a062"
      },
      "outputs": [
        {
          "output_type": "stream",
          "name": "stdout",
          "text": [
            "Normalized the values.\n"
          ]
        }
      ],
      "source": [
        "#@title Convert raw values to their Z-scores \n",
        "\n",
        "# Calculate the Z-scores of each column in the training set:\n",
        "train_df_mean = train_df.mean()\n",
        "train_df_std = train_df.std()\n",
        "train_df_norm = (train_df - train_df_mean)/train_df_std\n",
        "\n",
        "# Calculate the Z-scores of each column in the test set.\n",
        "test_df_mean = test_df.mean()\n",
        "test_df_std = test_df.std()\n",
        "test_df_norm = (test_df - test_df_mean)/test_df_std\n",
        "\n",
        "print(\"Normalized the values.\")"
      ]
    },
    {
      "cell_type": "markdown",
      "metadata": {
        "id": "b9ehCgIRjTxy"
      },
      "source": [
        "## Represent data\n",
        "\n",
        "The following code cell creates a feature layer containing three features:\n",
        "\n",
        "* `latitude` X `longitude` (a feature cross)\n",
        "* `median_income`\n",
        "* `population`\n",
        "\n",
        "This code cell specifies the features that you'll ultimately train the model on and how each of those features will be represented. The transformations (collected in `my_feature_layer`) don't actually get applied until you pass a DataFrame to it, which will happen when we train the model. "
      ]
    },
    {
      "cell_type": "code",
      "execution_count": 7,
      "metadata": {
        "id": "8EkNAQhnjSu-"
      },
      "outputs": [],
      "source": [
        "# Create an empty list that will eventually hold all created feature columns.\n",
        "feature_columns = []\n",
        "\n",
        "# We scaled all the columns, including latitude and longitude, into their\n",
        "# Z scores. So, instead of picking a resolution in degrees, we're going\n",
        "# to use resolution_in_Zs.  A resolution_in_Zs of 1 corresponds to \n",
        "# a full standard deviation. \n",
        "resolution_in_Zs = 0.3  # 3/10 of a standard deviation.\n",
        "\n",
        "# Create a bucket feature column for latitude.\n",
        "latitude_as_a_numeric_column = tf.feature_column.numeric_column(\"latitude\")\n",
        "latitude_boundaries = list(np.arange(int(min(train_df_norm['latitude'])), \n",
        "                                     int(max(train_df_norm['latitude'])), \n",
        "                                     resolution_in_Zs))\n",
        "latitude = tf.feature_column.bucketized_column(latitude_as_a_numeric_column, latitude_boundaries)\n",
        "\n",
        "# Create a bucket feature column for longitude.\n",
        "longitude_as_a_numeric_column = tf.feature_column.numeric_column(\"longitude\")\n",
        "longitude_boundaries = list(np.arange(int(min(train_df_norm['longitude'])), \n",
        "                                      int(max(train_df_norm['longitude'])), \n",
        "                                      resolution_in_Zs))\n",
        "longitude = tf.feature_column.bucketized_column(longitude_as_a_numeric_column, \n",
        "                                                longitude_boundaries)\n",
        "\n",
        "# Create a feature cross of latitude and longitude.\n",
        "latitude_x_longitude = tf.feature_column.crossed_column([latitude, longitude], hash_bucket_size=100)\n",
        "crossed_feature = tf.feature_column.indicator_column(latitude_x_longitude)\n",
        "feature_columns.append(crossed_feature)  \n",
        "\n",
        "# Represent median_income as a floating-point value.\n",
        "median_income = tf.feature_column.numeric_column(\"median_income\")\n",
        "feature_columns.append(median_income)\n",
        "\n",
        "# Represent population as a floating-point value.\n",
        "population = tf.feature_column.numeric_column(\"population\")\n",
        "feature_columns.append(population)\n",
        "\n",
        "# Convert the list of feature columns into a layer that will later be fed into\n",
        "# the model. \n",
        "my_feature_layer = tf.keras.layers.DenseFeatures(feature_columns)"
      ]
    },
    {
      "cell_type": "markdown",
      "metadata": {
        "id": "Ak_TMAzGOIFq"
      },
      "source": [
        "## Build a linear regression model as a baseline\n",
        "\n",
        "Before creating a deep neural net, find a [baseline](https://developers.google.com/machine-learning/glossary/#baseline) loss by running a simple linear regression model that uses the feature layer you just created. \n"
      ]
    },
    {
      "cell_type": "code",
      "execution_count": 8,
      "metadata": {
        "id": "QF0BFRXTOeR3",
        "colab": {
          "base_uri": "https://localhost:8080/"
        },
        "outputId": "3b7552a1-7391-4b4b-e640-cead830dcc18"
      },
      "outputs": [
        {
          "output_type": "stream",
          "name": "stdout",
          "text": [
            "Defined the plot_the_loss_curve function.\n"
          ]
        }
      ],
      "source": [
        "#@title Define the plotting function.\n",
        "\n",
        "def plot_the_loss_curve(epochs, mse):\n",
        "  \"\"\"Plot a curve of loss vs. epoch.\"\"\"\n",
        "\n",
        "  plt.figure()\n",
        "  plt.xlabel(\"Epoch\")\n",
        "  plt.ylabel(\"Mean Squared Error\")\n",
        "\n",
        "  plt.plot(epochs, mse, label=\"Loss\")\n",
        "  plt.legend()\n",
        "  plt.ylim([mse.min()*0.95, mse.max() * 1.03])\n",
        "  plt.show()  \n",
        "\n",
        "print(\"Defined the plot_the_loss_curve function.\")"
      ]
    },
    {
      "cell_type": "code",
      "execution_count": 9,
      "metadata": {
        "id": "RW4Qe710LgnG",
        "colab": {
          "base_uri": "https://localhost:8080/"
        },
        "outputId": "75d66cda-d376-4096-ddcf-5b677d0bab96"
      },
      "outputs": [
        {
          "output_type": "stream",
          "name": "stdout",
          "text": [
            "Defined the create_model and train_model functions.\n"
          ]
        }
      ],
      "source": [
        "#@title Define functions to create and train a linear regression model\n",
        "def create_model(my_learning_rate, feature_layer):\n",
        "  \"\"\"Create and compile a simple linear regression model.\"\"\"\n",
        "  # Most simple tf.keras models are sequential.\n",
        "  model = tf.keras.models.Sequential()\n",
        "\n",
        "  # Add the layer containing the feature columns to the model.\n",
        "  model.add(feature_layer)\n",
        "\n",
        "  # Add one linear layer to the model to yield a simple linear regressor.\n",
        "  model.add(tf.keras.layers.Dense(units=1, input_shape=(1,)))\n",
        "\n",
        "  # Construct the layers into a model that TensorFlow can execute.\n",
        "  model.compile(optimizer=tf.keras.optimizers.experimental.RMSprop(learning_rate=my_learning_rate),\n",
        "                loss=\"mean_squared_error\",\n",
        "                metrics=[tf.keras.metrics.MeanSquaredError()])\n",
        "\n",
        "  return model           \n",
        "\n",
        "\n",
        "def train_model(model, dataset, epochs, batch_size, label_name):\n",
        "  \"\"\"Feed a dataset into the model in order to train it.\"\"\"\n",
        "\n",
        "  # Split the dataset into features and label.\n",
        "  features = {name:np.array(value) for name, value in dataset.items()}\n",
        "  label = np.array(features.pop(label_name))\n",
        "  history = model.fit(x=features, y=label, batch_size=batch_size,\n",
        "                      epochs=epochs, shuffle=True)\n",
        "\n",
        "  # Get details that will be useful for plotting the loss curve.\n",
        "  epochs = history.epoch\n",
        "  hist = pd.DataFrame(history.history)\n",
        "  rmse = hist[\"mean_squared_error\"]\n",
        "\n",
        "  return epochs, rmse   \n",
        "\n",
        "print(\"Defined the create_model and train_model functions.\")"
      ]
    },
    {
      "cell_type": "markdown",
      "metadata": {
        "id": "f47LmxF5X_pu"
      },
      "source": [
        "Run the following code cell to invoke the functions defined in the preceding two code cells. (Ignore the warning messages.)\n",
        "\n",
        "**Note:** Because we've scaled all the input data, **including the label**, the resulting loss values will be *much less* than previous models. \n",
        "\n",
        "**Note:** Depending on the version of TensorFlow, running this cell might generate WARNING messages. Please ignore these warnings. "
      ]
    },
    {
      "cell_type": "code",
      "execution_count": 10,
      "metadata": {
        "id": "tsfE4ujDL4ju",
        "colab": {
          "base_uri": "https://localhost:8080/",
          "height": 941
        },
        "outputId": "1e59a3b1-a254-408b-df4f-b30712772060"
      },
      "outputs": [
        {
          "output_type": "stream",
          "name": "stdout",
          "text": [
            "Epoch 1/15\n"
          ]
        },
        {
          "output_type": "stream",
          "name": "stderr",
          "text": [
            "WARNING:tensorflow:Layers in a Sequential model should only have a single input tensor. Received: inputs={'longitude': <tf.Tensor 'IteratorGetNext:3' shape=(1000,) dtype=float32>, 'latitude': <tf.Tensor 'IteratorGetNext:2' shape=(1000,) dtype=float32>, 'housing_median_age': <tf.Tensor 'IteratorGetNext:1' shape=(1000,) dtype=float32>, 'total_rooms': <tf.Tensor 'IteratorGetNext:7' shape=(1000,) dtype=float32>, 'total_bedrooms': <tf.Tensor 'IteratorGetNext:6' shape=(1000,) dtype=float32>, 'population': <tf.Tensor 'IteratorGetNext:5' shape=(1000,) dtype=float32>, 'households': <tf.Tensor 'IteratorGetNext:0' shape=(1000,) dtype=float32>, 'median_income': <tf.Tensor 'IteratorGetNext:4' shape=(1000,) dtype=float32>}. Consider rewriting this model with the Functional API.\n",
            "WARNING:tensorflow:Layers in a Sequential model should only have a single input tensor. Received: inputs={'longitude': <tf.Tensor 'IteratorGetNext:3' shape=(1000,) dtype=float32>, 'latitude': <tf.Tensor 'IteratorGetNext:2' shape=(1000,) dtype=float32>, 'housing_median_age': <tf.Tensor 'IteratorGetNext:1' shape=(1000,) dtype=float32>, 'total_rooms': <tf.Tensor 'IteratorGetNext:7' shape=(1000,) dtype=float32>, 'total_bedrooms': <tf.Tensor 'IteratorGetNext:6' shape=(1000,) dtype=float32>, 'population': <tf.Tensor 'IteratorGetNext:5' shape=(1000,) dtype=float32>, 'households': <tf.Tensor 'IteratorGetNext:0' shape=(1000,) dtype=float32>, 'median_income': <tf.Tensor 'IteratorGetNext:4' shape=(1000,) dtype=float32>}. Consider rewriting this model with the Functional API.\n"
          ]
        },
        {
          "output_type": "stream",
          "name": "stdout",
          "text": [
            "17/17 [==============================] - 1s 2ms/step - loss: 1.0593 - mean_squared_error: 1.0593\n",
            "Epoch 2/15\n",
            "17/17 [==============================] - 0s 2ms/step - loss: 0.7271 - mean_squared_error: 0.7271\n",
            "Epoch 3/15\n",
            "17/17 [==============================] - 0s 2ms/step - loss: 0.5489 - mean_squared_error: 0.5489\n",
            "Epoch 4/15\n",
            "17/17 [==============================] - 0s 2ms/step - loss: 0.4444 - mean_squared_error: 0.4444\n",
            "Epoch 5/15\n",
            "17/17 [==============================] - 0s 2ms/step - loss: 0.3905 - mean_squared_error: 0.3905\n",
            "Epoch 6/15\n",
            "17/17 [==============================] - 0s 2ms/step - loss: 0.3690 - mean_squared_error: 0.3690\n",
            "Epoch 7/15\n",
            "17/17 [==============================] - 0s 2ms/step - loss: 0.3627 - mean_squared_error: 0.3627\n",
            "Epoch 8/15\n",
            "17/17 [==============================] - 0s 2ms/step - loss: 0.3609 - mean_squared_error: 0.3609\n",
            "Epoch 9/15\n",
            "17/17 [==============================] - 0s 2ms/step - loss: 0.3604 - mean_squared_error: 0.3604\n",
            "Epoch 10/15\n",
            "17/17 [==============================] - 0s 2ms/step - loss: 0.3600 - mean_squared_error: 0.3600\n",
            "Epoch 11/15\n",
            "17/17 [==============================] - 0s 2ms/step - loss: 0.3602 - mean_squared_error: 0.3602\n",
            "Epoch 12/15\n",
            "17/17 [==============================] - 0s 2ms/step - loss: 0.3598 - mean_squared_error: 0.3598\n",
            "Epoch 13/15\n",
            "17/17 [==============================] - 0s 2ms/step - loss: 0.3597 - mean_squared_error: 0.3597\n",
            "Epoch 14/15\n",
            "17/17 [==============================] - 0s 2ms/step - loss: 0.3597 - mean_squared_error: 0.3597\n",
            "Epoch 15/15\n",
            "17/17 [==============================] - 0s 2ms/step - loss: 0.3596 - mean_squared_error: 0.3596\n"
          ]
        },
        {
          "output_type": "display_data",
          "data": {
            "text/plain": [
              "<Figure size 432x288 with 1 Axes>"
            ],
            "image/png": "[encoded data removed]"
          },
          "metadata": {
            "needs_background": "light"
          }
        },
        {
          "output_type": "stream",
          "name": "stdout",
          "text": [
            "\n",
            " Evaluate the linear regression model against the test set:\n"
          ]
        },
        {
          "output_type": "stream",
          "name": "stderr",
          "text": [
            "WARNING:tensorflow:Layers in a Sequential model should only have a single input tensor. Received: inputs={'longitude': <tf.Tensor 'IteratorGetNext:3' shape=(1000,) dtype=float32>, 'latitude': <tf.Tensor 'IteratorGetNext:2' shape=(1000,) dtype=float32>, 'housing_median_age': <tf.Tensor 'IteratorGetNext:1' shape=(1000,) dtype=float32>, 'total_rooms': <tf.Tensor 'IteratorGetNext:7' shape=(1000,) dtype=float32>, 'total_bedrooms': <tf.Tensor 'IteratorGetNext:6' shape=(1000,) dtype=float32>, 'population': <tf.Tensor 'IteratorGetNext:5' shape=(1000,) dtype=float32>, 'households': <tf.Tensor 'IteratorGetNext:0' shape=(1000,) dtype=float32>, 'median_income': <tf.Tensor 'IteratorGetNext:4' shape=(1000,) dtype=float32>}. Consider rewriting this model with the Functional API.\n"
          ]
        },
        {
          "output_type": "stream",
          "name": "stdout",
          "text": [
            "3/3 [==============================] - 0s 4ms/step - loss: 0.3954 - mean_squared_error: 0.3954\n"
          ]
        },
        {
          "output_type": "execute_result",
          "data": {
            "text/plain": [
              "[0.3954183757305145, 0.3954183757305145]"
            ]
          },
          "metadata": {},
          "execution_count": 10
        }
      ],
      "source": [
        "# The following variables are the hyperparameters.\n",
        "learning_rate = 0.01\n",
        "epochs = 15\n",
        "batch_size = 1000\n",
        "label_name = \"median_house_value\"\n",
        "\n",
        "# Establish the model's topography.\n",
        "my_model = create_model(learning_rate, my_feature_layer)\n",
        "\n",
        "# Train the model on the normalized training set.\n",
        "epochs, mse = train_model(my_model, train_df_norm, epochs, batch_size, label_name)\n",
        "plot_the_loss_curve(epochs, mse)\n",
        "\n",
        "test_features = {name:np.array(value) for name, value in test_df_norm.items()}\n",
        "test_label = np.array(test_features.pop(label_name)) # isolate the label\n",
        "print(\"\\n Evaluate the linear regression model against the test set:\")\n",
        "my_model.evaluate(x = test_features, y = test_label, batch_size=batch_size)"
      ]
    },
    {
      "cell_type": "markdown",
      "metadata": {
        "id": "3014ezH3C7jT"
      },
      "source": [
        "## Define a deep neural net model\n",
        "\n",
        "The `create_model` function defines the topography of the deep neural net, specifying the following:\n",
        "\n",
        "* The number of [layers](https://developers.google.com/machine-learning/glossary/#layer) in the deep neural net.\n",
        "* The number of [nodes](https://developers.google.com/machine-learning/glossary/#node) in each layer.\n",
        "\n",
        "The `create_model` function also defines the [activation function](https://developers.google.com/machine-learning/glossary/#activation_function) of each layer."
      ]
    },
    {
      "cell_type": "code",
      "execution_count": 11,
      "metadata": {
        "cellView": "both",
        "id": "pedD5GhlDC-y"
      },
      "outputs": [],
      "source": [
        "def create_model(my_learning_rate, my_feature_layer):\n",
        "  \"\"\"Create and compile a simple linear regression model.\"\"\"\n",
        "  # Most simple tf.keras models are sequential.\n",
        "  model = tf.keras.models.Sequential()\n",
        "\n",
        "  # Add the layer containing the feature columns to the model.\n",
        "  model.add(my_feature_layer)\n",
        "\n",
        "  # Describe the topography of the model by calling the tf.keras.layers.Dense\n",
        "  # method once for each layer. We've specified the following arguments:\n",
        "  #   * units specifies the number of nodes in this layer.\n",
        "  #   * activation specifies the activation function (Rectified Linear Unit).\n",
        "  #   * name is just a string that can be useful when debugging.\n",
        "\n",
        "  # Define the first hidden layer with 20 nodes.   \n",
        "  model.add(tf.keras.layers.Dense(units=20, \n",
        "                                  activation='relu', \n",
        "                                  name='Hidden1'))\n",
        "  \n",
        "  # Define the second hidden layer with 12 nodes. \n",
        "  model.add(tf.keras.layers.Dense(units=12, \n",
        "                                  activation='relu', \n",
        "                                  name='Hidden2'))\n",
        "  \n",
        "  # Define the output layer.\n",
        "  model.add(tf.keras.layers.Dense(units=1,  \n",
        "                                  name='Output'))                              \n",
        "  \n",
        "  model.compile(optimizer=tf.keras.optimizers.Adam(learning_rate=my_learning_rate),\n",
        "                loss=\"mean_squared_error\",\n",
        "                metrics=[tf.keras.metrics.MeanSquaredError()])\n",
        "\n",
        "  return model"
      ]
    },
    {
      "cell_type": "markdown",
      "metadata": {
        "id": "anH4A_yCcZx2"
      },
      "source": [
        "## Define a training function\n",
        "\n",
        "The `train_model` function trains the model from the input features and labels. The [tf.keras.Model.fit](https://www.tensorflow.org/api_docs/python/tf/keras/Sequential#fit) method performs the actual training. The `x` parameter of the `fit` method is very flexible, enabling you to pass feature data in a variety of ways. The following implementation passes a Python dictionary in which:\n",
        "\n",
        "* The *keys* are the names of each feature (for example, `longitude`, `latitude`, and so on).\n",
        "* The *value* of each key is a NumPy array containing the values of that feature. \n",
        "\n",
        "**Note:** Although you are passing *every* feature to `model.fit`, most of those values will be ignored. Only the features accessed by `my_feature_layer` will actually be used to train the model."
      ]
    },
    {
      "cell_type": "code",
      "execution_count": 12,
      "metadata": {
        "id": "4jv_lJYTcrEF"
      },
      "outputs": [],
      "source": [
        "def train_model(model, dataset, epochs, label_name,\n",
        "                batch_size=None):\n",
        "  \"\"\"Train the model by feeding it data.\"\"\"\n",
        "\n",
        "  # Split the dataset into features and label.\n",
        "  features = {name:np.array(value) for name, value in dataset.items()}\n",
        "  label = np.array(features.pop(label_name))\n",
        "  history = model.fit(x=features, y=label, batch_size=batch_size,\n",
        "                      epochs=epochs, shuffle=True) \n",
        "\n",
        "  # The list of epochs is stored separately from the rest of history.\n",
        "  epochs = history.epoch\n",
        "  \n",
        "  # To track the progression of training, gather a snapshot\n",
        "  # of the model's mean squared error at each epoch. \n",
        "  hist = pd.DataFrame(history.history)\n",
        "  mse = hist[\"mean_squared_error\"]\n",
        "\n",
        "  return epochs, mse"
      ]
    },
    {
      "cell_type": "markdown",
      "metadata": {
        "id": "D-IXYVfvM4gD"
      },
      "source": [
        "## Call the functions to build and train a deep neural net\n",
        "\n",
        "Okay, it is time to actually train the deep neural net.  If time permits, experiment with the three hyperparameters to see if you can reduce the loss\n",
        "against the test set.\n"
      ]
    },
    {
      "cell_type": "code",
      "execution_count": 13,
      "metadata": {
        "cellView": "both",
        "id": "nj3v5EKQFY8s",
        "colab": {
          "base_uri": "https://localhost:8080/",
          "height": 1000
        },
        "outputId": "d50343b7-d8c7-4bfc-c3b5-fdb8d67e6809"
      },
      "outputs": [
        {
          "output_type": "stream",
          "name": "stdout",
          "text": [
            "Epoch 1/140\n"
          ]
        },
        {
          "output_type": "stream",
          "name": "stderr",
          "text": [
            "WARNING:tensorflow:Layers in a Sequential model should only have a single input tensor. Received: inputs={'longitude': <tf.Tensor 'IteratorGetNext:3' shape=(1000,) dtype=float32>, 'latitude': <tf.Tensor 'IteratorGetNext:2' shape=(1000,) dtype=float32>, 'housing_median_age': <tf.Tensor 'IteratorGetNext:1' shape=(1000,) dtype=float32>, 'total_rooms': <tf.Tensor 'IteratorGetNext:7' shape=(1000,) dtype=float32>, 'total_bedrooms': <tf.Tensor 'IteratorGetNext:6' shape=(1000,) dtype=float32>, 'population': <tf.Tensor 'IteratorGetNext:5' shape=(1000,) dtype=float32>, 'households': <tf.Tensor 'IteratorGetNext:0' shape=(1000,) dtype=float32>, 'median_income': <tf.Tensor 'IteratorGetNext:4' shape=(1000,) dtype=float32>}. Consider rewriting this model with the Functional API.\n",
            "WARNING:tensorflow:Layers in a Sequential model should only have a single input tensor. Received: inputs={'longitude': <tf.Tensor 'IteratorGetNext:3' shape=(1000,) dtype=float32>, 'latitude': <tf.Tensor 'IteratorGetNext:2' shape=(1000,) dtype=float32>, 'housing_median_age': <tf.Tensor 'IteratorGetNext:1' shape=(1000,) dtype=float32>, 'total_rooms': <tf.Tensor 'IteratorGetNext:7' shape=(1000,) dtype=float32>, 'total_bedrooms': <tf.Tensor 'IteratorGetNext:6' shape=(1000,) dtype=float32>, 'population': <tf.Tensor 'IteratorGetNext:5' shape=(1000,) dtype=float32>, 'households': <tf.Tensor 'IteratorGetNext:0' shape=(1000,) dtype=float32>, 'median_income': <tf.Tensor 'IteratorGetNext:4' shape=(1000,) dtype=float32>}. Consider rewriting this model with the Functional API.\n"
          ]
        },
        {
          "output_type": "stream",
          "name": "stdout",
          "text": [
            "17/17 [==============================] - 1s 3ms/step - loss: 0.6544 - mean_squared_error: 0.6544\n",
            "Epoch 2/140\n",
            "17/17 [==============================] - 0s 2ms/step - loss: 0.4027 - mean_squared_error: 0.4027\n",
            "Epoch 3/140\n",
            "17/17 [==============================] - 0s 2ms/step - loss: 0.3557 - mean_squared_error: 0.3557\n",
            "Epoch 4/140\n",
            "17/17 [==============================] - 0s 2ms/step - loss: 0.3423 - mean_squared_error: 0.3423\n",
            "Epoch 5/140\n",
            "17/17 [==============================] - 0s 2ms/step - loss: 0.3377 - mean_squared_error: 0.3377\n",
            "Epoch 6/140\n",
            "17/17 [==============================] - 0s 2ms/step - loss: 0.3347 - mean_squared_error: 0.3347\n",
            "Epoch 7/140\n",
            "17/17 [==============================] - 0s 2ms/step - loss: 0.3329 - mean_squared_error: 0.3329\n",
            "Epoch 8/140\n",
            "17/17 [==============================] - 0s 2ms/step - loss: 0.3311 - mean_squared_error: 0.3311\n",
            "Epoch 9/140\n",
            "17/17 [==============================] - 0s 2ms/step - loss: 0.3292 - mean_squared_error: 0.3292\n",
            "Epoch 10/140\n",
            "17/17 [==============================] - 0s 4ms/step - loss: 0.3290 - mean_squared_error: 0.3290\n",
            "Epoch 11/140\n",
            "17/17 [==============================] - 0s 3ms/step - loss: 0.3271 - mean_squared_error: 0.3271\n",
            "Epoch 12/140\n",
            "17/17 [==============================] - 0s 2ms/step - loss: 0.3264 - mean_squared_error: 0.3264\n",
            "Epoch 13/140\n",
            "17/17 [==============================] - 0s 2ms/step - loss: 0.3239 - mean_squared_error: 0.3239\n",
            "Epoch 14/140\n",
            "17/17 [==============================] - 0s 2ms/step - loss: 0.3236 - mean_squared_error: 0.3236\n",
            "Epoch 15/140\n",
            "17/17 [==============================] - 0s 2ms/step - loss: 0.3228 - mean_squared_error: 0.3228\n",
            "Epoch 16/140\n",
            "17/17 [==============================] - 0s 3ms/step - loss: 0.3231 - mean_squared_error: 0.3231\n",
            "Epoch 17/140\n",
            "17/17 [==============================] - 0s 2ms/step - loss: 0.3220 - mean_squared_error: 0.3220\n",
            "Epoch 18/140\n",
            "17/17 [==============================] - 0s 2ms/step - loss: 0.3225 - mean_squared_error: 0.3225\n",
            "Epoch 19/140\n",
            "17/17 [==============================] - 0s 2ms/step - loss: 0.3213 - mean_squared_error: 0.3213\n",
            "Epoch 20/140\n",
            "17/17 [==============================] - 0s 3ms/step - loss: 0.3217 - mean_squared_error: 0.3217\n",
            "Epoch 21/140\n",
            "17/17 [==============================] - 0s 2ms/step - loss: 0.3222 - mean_squared_error: 0.3222\n",
            "Epoch 22/140\n",
            "17/17 [==============================] - 0s 3ms/step - loss: 0.3208 - mean_squared_error: 0.3208\n",
            "Epoch 23/140\n",
            "17/17 [==============================] - 0s 4ms/step - loss: 0.3227 - mean_squared_error: 0.3227\n",
            "Epoch 24/140\n",
            "17/17 [==============================] - 0s 4ms/step - loss: 0.3219 - mean_squared_error: 0.3219\n",
            "Epoch 25/140\n",
            "17/17 [==============================] - 0s 4ms/step - loss: 0.3204 - mean_squared_error: 0.3204\n",
            "Epoch 26/140\n",
            "17/17 [==============================] - 0s 4ms/step - loss: 0.3206 - mean_squared_error: 0.3206\n",
            "Epoch 27/140\n",
            "17/17 [==============================] - 0s 7ms/step - loss: 0.3201 - mean_squared_error: 0.3201\n",
            "Epoch 28/140\n",
            "17/17 [==============================] - 0s 11ms/step - loss: 0.3197 - mean_squared_error: 0.3197\n",
            "Epoch 29/140\n",
            "17/17 [==============================] - 0s 7ms/step - loss: 0.3209 - mean_squared_error: 0.3209\n",
            "Epoch 30/140\n",
            "17/17 [==============================] - 0s 7ms/step - loss: 0.3204 - mean_squared_error: 0.3204\n",
            "Epoch 31/140\n",
            "17/17 [==============================] - 0s 4ms/step - loss: 0.3194 - mean_squared_error: 0.3194\n",
            "Epoch 32/140\n",
            "17/17 [==============================] - 0s 4ms/step - loss: 0.3185 - mean_squared_error: 0.3185\n",
            "Epoch 33/140\n",
            "17/17 [==============================] - 0s 4ms/step - loss: 0.3191 - mean_squared_error: 0.3191\n",
            "Epoch 34/140\n",
            "17/17 [==============================] - 0s 4ms/step - loss: 0.3180 - mean_squared_error: 0.3180\n",
            "Epoch 35/140\n",
            "17/17 [==============================] - 0s 4ms/step - loss: 0.3181 - mean_squared_error: 0.3181\n",
            "Epoch 36/140\n",
            "17/17 [==============================] - 0s 3ms/step - loss: 0.3182 - mean_squared_error: 0.3182\n",
            "Epoch 37/140\n",
            "17/17 [==============================] - 0s 4ms/step - loss: 0.3186 - mean_squared_error: 0.3186\n",
            "Epoch 38/140\n",
            "17/17 [==============================] - 0s 4ms/step - loss: 0.3189 - mean_squared_error: 0.3189\n",
            "Epoch 39/140\n",
            "17/17 [==============================] - 0s 3ms/step - loss: 0.3178 - mean_squared_error: 0.3178\n",
            "Epoch 40/140\n",
            "17/17 [==============================] - 0s 3ms/step - loss: 0.3192 - mean_squared_error: 0.3192\n",
            "Epoch 41/140\n",
            "17/17 [==============================] - 0s 4ms/step - loss: 0.3180 - mean_squared_error: 0.3180\n",
            "Epoch 42/140\n",
            "17/17 [==============================] - 0s 3ms/step - loss: 0.3181 - mean_squared_error: 0.3181\n",
            "Epoch 43/140\n",
            "17/17 [==============================] - 0s 3ms/step - loss: 0.3183 - mean_squared_error: 0.3183\n",
            "Epoch 44/140\n",
            "17/17 [==============================] - 0s 3ms/step - loss: 0.3183 - mean_squared_error: 0.3183\n",
            "Epoch 45/140\n",
            "17/17 [==============================] - 0s 3ms/step - loss: 0.3179 - mean_squared_error: 0.3179\n",
            "Epoch 46/140\n",
            "17/17 [==============================] - 0s 3ms/step - loss: 0.3173 - mean_squared_error: 0.3173\n",
            "Epoch 47/140\n",
            "17/17 [==============================] - 0s 4ms/step - loss: 0.3179 - mean_squared_error: 0.3179\n",
            "Epoch 48/140\n",
            "17/17 [==============================] - 0s 4ms/step - loss: 0.3168 - mean_squared_error: 0.3168\n",
            "Epoch 49/140\n",
            "17/17 [==============================] - 0s 4ms/step - loss: 0.3175 - mean_squared_error: 0.3175\n",
            "Epoch 50/140\n",
            "17/17 [==============================] - 0s 4ms/step - loss: 0.3184 - mean_squared_error: 0.3184\n",
            "Epoch 51/140\n",
            "17/17 [==============================] - 0s 4ms/step - loss: 0.3170 - mean_squared_error: 0.3170\n",
            "Epoch 52/140\n",
            "17/17 [==============================] - 0s 4ms/step - loss: 0.3166 - mean_squared_error: 0.3166\n",
            "Epoch 53/140\n",
            "17/17 [==============================] - 0s 4ms/step - loss: 0.3169 - mean_squared_error: 0.3169\n",
            "Epoch 54/140\n",
            "17/17 [==============================] - 0s 3ms/step - loss: 0.3169 - mean_squared_error: 0.3169\n",
            "Epoch 55/140\n",
            "17/17 [==============================] - 0s 3ms/step - loss: 0.3170 - mean_squared_error: 0.3170\n",
            "Epoch 56/140\n",
            "17/17 [==============================] - 0s 2ms/step - loss: 0.3164 - mean_squared_error: 0.3164\n",
            "Epoch 57/140\n",
            "17/17 [==============================] - 0s 2ms/step - loss: 0.3162 - mean_squared_error: 0.3162\n",
            "Epoch 58/140\n",
            "17/17 [==============================] - 0s 2ms/step - loss: 0.3164 - mean_squared_error: 0.3164\n",
            "Epoch 59/140\n",
            "17/17 [==============================] - 0s 2ms/step - loss: 0.3161 - mean_squared_error: 0.3161\n",
            "Epoch 60/140\n",
            "17/17 [==============================] - 0s 2ms/step - loss: 0.3160 - mean_squared_error: 0.3160\n",
            "Epoch 61/140\n",
            "17/17 [==============================] - 0s 2ms/step - loss: 0.3164 - mean_squared_error: 0.3164\n",
            "Epoch 62/140\n",
            "17/17 [==============================] - 0s 2ms/step - loss: 0.3150 - mean_squared_error: 0.3150\n",
            "Epoch 63/140\n",
            "17/17 [==============================] - 0s 2ms/step - loss: 0.3157 - mean_squared_error: 0.3157\n",
            "Epoch 64/140\n",
            "17/17 [==============================] - 0s 3ms/step - loss: 0.3154 - mean_squared_error: 0.3154\n",
            "Epoch 65/140\n",
            "17/17 [==============================] - 0s 5ms/step - loss: 0.3150 - mean_squared_error: 0.3150\n",
            "Epoch 66/140\n",
            "17/17 [==============================] - 0s 5ms/step - loss: 0.3156 - mean_squared_error: 0.3156\n",
            "Epoch 67/140\n",
            "17/17 [==============================] - 0s 4ms/step - loss: 0.3153 - mean_squared_error: 0.3153\n",
            "Epoch 68/140\n",
            "17/17 [==============================] - 0s 4ms/step - loss: 0.3158 - mean_squared_error: 0.3158\n",
            "Epoch 69/140\n",
            "17/17 [==============================] - 0s 4ms/step - loss: 0.3160 - mean_squared_error: 0.3160\n",
            "Epoch 70/140\n",
            "17/17 [==============================] - 0s 4ms/step - loss: 0.3157 - mean_squared_error: 0.3157\n",
            "Epoch 71/140\n",
            "17/17 [==============================] - 0s 4ms/step - loss: 0.3176 - mean_squared_error: 0.3176\n",
            "Epoch 72/140\n",
            "17/17 [==============================] - 0s 4ms/step - loss: 0.3177 - mean_squared_error: 0.3177\n",
            "Epoch 73/140\n",
            "17/17 [==============================] - 0s 4ms/step - loss: 0.3151 - mean_squared_error: 0.3151\n",
            "Epoch 74/140\n",
            "17/17 [==============================] - 0s 4ms/step - loss: 0.3157 - mean_squared_error: 0.3157\n",
            "Epoch 75/140\n",
            "17/17 [==============================] - 0s 4ms/step - loss: 0.3156 - mean_squared_error: 0.3156\n",
            "Epoch 76/140\n",
            "17/17 [==============================] - 0s 4ms/step - loss: 0.3144 - mean_squared_error: 0.3144\n",
            "Epoch 77/140\n",
            "17/17 [==============================] - 0s 4ms/step - loss: 0.3158 - mean_squared_error: 0.3158\n",
            "Epoch 78/140\n",
            "17/17 [==============================] - 0s 4ms/step - loss: 0.3179 - mean_squared_error: 0.3179\n",
            "Epoch 79/140\n",
            "17/17 [==============================] - 0s 4ms/step - loss: 0.3156 - mean_squared_error: 0.3156\n",
            "Epoch 80/140\n",
            "17/17 [==============================] - 0s 4ms/step - loss: 0.3154 - mean_squared_error: 0.3154\n",
            "Epoch 81/140\n",
            "17/17 [==============================] - 0s 4ms/step - loss: 0.3146 - mean_squared_error: 0.3146\n",
            "Epoch 82/140\n",
            "17/17 [==============================] - 0s 5ms/step - loss: 0.3143 - mean_squared_error: 0.3143\n",
            "Epoch 83/140\n",
            "17/17 [==============================] - 0s 6ms/step - loss: 0.3148 - mean_squared_error: 0.3148\n",
            "Epoch 84/140\n",
            "17/17 [==============================] - 0s 5ms/step - loss: 0.3151 - mean_squared_error: 0.3151\n",
            "Epoch 85/140\n",
            "17/17 [==============================] - 0s 5ms/step - loss: 0.3154 - mean_squared_error: 0.3154\n",
            "Epoch 86/140\n",
            "17/17 [==============================] - 0s 5ms/step - loss: 0.3145 - mean_squared_error: 0.3145\n",
            "Epoch 87/140\n",
            "17/17 [==============================] - 0s 6ms/step - loss: 0.3147 - mean_squared_error: 0.3147\n",
            "Epoch 88/140\n",
            "17/17 [==============================] - 0s 4ms/step - loss: 0.3143 - mean_squared_error: 0.3143\n",
            "Epoch 89/140\n",
            "17/17 [==============================] - 0s 4ms/step - loss: 0.3157 - mean_squared_error: 0.3157\n",
            "Epoch 90/140\n",
            "17/17 [==============================] - 0s 3ms/step - loss: 0.3139 - mean_squared_error: 0.3139\n",
            "Epoch 91/140\n",
            "17/17 [==============================] - 0s 3ms/step - loss: 0.3141 - mean_squared_error: 0.3141\n",
            "Epoch 92/140\n",
            "17/17 [==============================] - 0s 5ms/step - loss: 0.3144 - mean_squared_error: 0.3144\n",
            "Epoch 93/140\n",
            "17/17 [==============================] - 0s 4ms/step - loss: 0.3147 - mean_squared_error: 0.3147\n",
            "Epoch 94/140\n",
            "17/17 [==============================] - 0s 5ms/step - loss: 0.3152 - mean_squared_error: 0.3152\n",
            "Epoch 95/140\n",
            "17/17 [==============================] - 0s 3ms/step - loss: 0.3149 - mean_squared_error: 0.3149\n",
            "Epoch 96/140\n",
            "17/17 [==============================] - 0s 4ms/step - loss: 0.3146 - mean_squared_error: 0.3146\n",
            "Epoch 97/140\n",
            "17/17 [==============================] - 0s 4ms/step - loss: 0.3150 - mean_squared_error: 0.3150\n",
            "Epoch 98/140\n",
            "17/17 [==============================] - 0s 4ms/step - loss: 0.3154 - mean_squared_error: 0.3154\n",
            "Epoch 99/140\n",
            "17/17 [==============================] - 0s 3ms/step - loss: 0.3148 - mean_squared_error: 0.3148\n",
            "Epoch 100/140\n",
            "17/17 [==============================] - 0s 5ms/step - loss: 0.3155 - mean_squared_error: 0.3155\n",
            "Epoch 101/140\n",
            "17/17 [==============================] - 0s 3ms/step - loss: 0.3145 - mean_squared_error: 0.3145\n",
            "Epoch 102/140\n",
            "17/17 [==============================] - 0s 3ms/step - loss: 0.3133 - mean_squared_error: 0.3133\n",
            "Epoch 103/140\n",
            "17/17 [==============================] - 0s 4ms/step - loss: 0.3136 - mean_squared_error: 0.3136\n",
            "Epoch 104/140\n",
            "17/17 [==============================] - 0s 3ms/step - loss: 0.3138 - mean_squared_error: 0.3138\n",
            "Epoch 105/140\n",
            "17/17 [==============================] - 0s 3ms/step - loss: 0.3136 - mean_squared_error: 0.3136\n",
            "Epoch 106/140\n",
            "17/17 [==============================] - 0s 4ms/step - loss: 0.3136 - mean_squared_error: 0.3136\n",
            "Epoch 107/140\n",
            "17/17 [==============================] - 0s 5ms/step - loss: 0.3135 - mean_squared_error: 0.3135\n",
            "Epoch 108/140\n",
            "17/17 [==============================] - 0s 3ms/step - loss: 0.3140 - mean_squared_error: 0.3140\n",
            "Epoch 109/140\n",
            "17/17 [==============================] - 0s 4ms/step - loss: 0.3136 - mean_squared_error: 0.3136\n",
            "Epoch 110/140\n",
            "17/17 [==============================] - 0s 4ms/step - loss: 0.3146 - mean_squared_error: 0.3146\n",
            "Epoch 111/140\n",
            "17/17 [==============================] - 0s 4ms/step - loss: 0.3138 - mean_squared_error: 0.3138\n",
            "Epoch 112/140\n",
            "17/17 [==============================] - 0s 4ms/step - loss: 0.3150 - mean_squared_error: 0.3150\n",
            "Epoch 113/140\n",
            "17/17 [==============================] - 0s 4ms/step - loss: 0.3134 - mean_squared_error: 0.3134\n",
            "Epoch 114/140\n",
            "17/17 [==============================] - 0s 3ms/step - loss: 0.3129 - mean_squared_error: 0.3129\n",
            "Epoch 115/140\n",
            "17/17 [==============================] - 0s 3ms/step - loss: 0.3140 - mean_squared_error: 0.3140\n",
            "Epoch 116/140\n",
            "17/17 [==============================] - 0s 3ms/step - loss: 0.3135 - mean_squared_error: 0.3135\n",
            "Epoch 117/140\n",
            "17/17 [==============================] - 0s 3ms/step - loss: 0.3130 - mean_squared_error: 0.3130\n",
            "Epoch 118/140\n",
            "17/17 [==============================] - 0s 3ms/step - loss: 0.3132 - mean_squared_error: 0.3132\n",
            "Epoch 119/140\n",
            "17/17 [==============================] - 0s 4ms/step - loss: 0.3135 - mean_squared_error: 0.3135\n",
            "Epoch 120/140\n",
            "17/17 [==============================] - 0s 3ms/step - loss: 0.3142 - mean_squared_error: 0.3142\n",
            "Epoch 121/140\n",
            "17/17 [==============================] - 0s 5ms/step - loss: 0.3135 - mean_squared_error: 0.3135\n",
            "Epoch 122/140\n",
            "17/17 [==============================] - 0s 4ms/step - loss: 0.3128 - mean_squared_error: 0.3128\n",
            "Epoch 123/140\n",
            "17/17 [==============================] - 0s 3ms/step - loss: 0.3133 - mean_squared_error: 0.3133\n",
            "Epoch 124/140\n",
            "17/17 [==============================] - 0s 4ms/step - loss: 0.3131 - mean_squared_error: 0.3131\n",
            "Epoch 125/140\n",
            "17/17 [==============================] - 0s 4ms/step - loss: 0.3134 - mean_squared_error: 0.3134\n",
            "Epoch 126/140\n",
            "17/17 [==============================] - 0s 4ms/step - loss: 0.3139 - mean_squared_error: 0.3139\n",
            "Epoch 127/140\n",
            "17/17 [==============================] - 0s 3ms/step - loss: 0.3138 - mean_squared_error: 0.3138\n",
            "Epoch 128/140\n",
            "17/17 [==============================] - 0s 7ms/step - loss: 0.3134 - mean_squared_error: 0.3134\n",
            "Epoch 129/140\n",
            "17/17 [==============================] - 0s 8ms/step - loss: 0.3129 - mean_squared_error: 0.3129\n",
            "Epoch 130/140\n",
            "17/17 [==============================] - 0s 6ms/step - loss: 0.3137 - mean_squared_error: 0.3137\n",
            "Epoch 131/140\n",
            "17/17 [==============================] - 0s 5ms/step - loss: 0.3150 - mean_squared_error: 0.3150\n",
            "Epoch 132/140\n",
            "17/17 [==============================] - 0s 6ms/step - loss: 0.3154 - mean_squared_error: 0.3154\n",
            "Epoch 133/140\n",
            "17/17 [==============================] - 0s 5ms/step - loss: 0.3136 - mean_squared_error: 0.3136\n",
            "Epoch 134/140\n",
            "17/17 [==============================] - 0s 5ms/step - loss: 0.3123 - mean_squared_error: 0.3123\n",
            "Epoch 135/140\n",
            "17/17 [==============================] - 0s 5ms/step - loss: 0.3129 - mean_squared_error: 0.3129\n",
            "Epoch 136/140\n",
            "17/17 [==============================] - 0s 5ms/step - loss: 0.3131 - mean_squared_error: 0.3131\n",
            "Epoch 137/140\n",
            "17/17 [==============================] - 0s 7ms/step - loss: 0.3123 - mean_squared_error: 0.3123\n",
            "Epoch 138/140\n",
            "17/17 [==============================] - 0s 4ms/step - loss: 0.3126 - mean_squared_error: 0.3126\n",
            "Epoch 139/140\n",
            "17/17 [==============================] - 0s 4ms/step - loss: 0.3128 - mean_squared_error: 0.3128\n",
            "Epoch 140/140\n",
            "17/17 [==============================] - 0s 4ms/step - loss: 0.3134 - mean_squared_error: 0.3134\n"
          ]
        },
        {
          "output_type": "display_data",
          "data": {
            "text/plain": [
              "<Figure size 432x288 with 1 Axes>"
            ],
            "image/png": "[encoded data removed]"
          },
          "metadata": {
            "needs_background": "light"
          }
        },
        {
          "output_type": "stream",
          "name": "stdout",
          "text": [
            "\n",
            " Evaluate the new model against the test set:\n"
          ]
        },
        {
          "output_type": "stream",
          "name": "stderr",
          "text": [
            "WARNING:tensorflow:Layers in a Sequential model should only have a single input tensor. Received: inputs={'longitude': <tf.Tensor 'IteratorGetNext:3' shape=(1000,) dtype=float32>, 'latitude': <tf.Tensor 'IteratorGetNext:2' shape=(1000,) dtype=float32>, 'housing_median_age': <tf.Tensor 'IteratorGetNext:1' shape=(1000,) dtype=float32>, 'total_rooms': <tf.Tensor 'IteratorGetNext:7' shape=(1000,) dtype=float32>, 'total_bedrooms': <tf.Tensor 'IteratorGetNext:6' shape=(1000,) dtype=float32>, 'population': <tf.Tensor 'IteratorGetNext:5' shape=(1000,) dtype=float32>, 'households': <tf.Tensor 'IteratorGetNext:0' shape=(1000,) dtype=float32>, 'median_income': <tf.Tensor 'IteratorGetNext:4' shape=(1000,) dtype=float32>}. Consider rewriting this model with the Functional API.\n"
          ]
        },
        {
          "output_type": "stream",
          "name": "stdout",
          "text": [
            "3/3 [==============================] - 0s 4ms/step - loss: 0.3673 - mean_squared_error: 0.3673\n"
          ]
        },
        {
          "output_type": "execute_result",
          "data": {
            "text/plain": [
              "[0.36730876564979553, 0.36730876564979553]"
            ]
          },
          "metadata": {},
          "execution_count": 13
        }
      ],
      "source": [
        "# The following variables are the hyperparameters.\n",
        "learning_rate = 0.007\n",
        "epochs = 140\n",
        "batch_size = 1000\n",
        "\n",
        "# Specify the label\n",
        "label_name = \"median_house_value\"\n",
        "\n",
        "# Establish the model's topography.\n",
        "my_model = create_model(learning_rate, my_feature_layer)\n",
        "\n",
        "# Train the model on the normalized training set. We're passing the entire\n",
        "# normalized training set, but the model will only use the features\n",
        "# defined by the feature_layer.\n",
        "epochs, mse = train_model(my_model, train_df_norm, epochs, \n",
        "                          label_name, batch_size)\n",
        "plot_the_loss_curve(epochs, mse)\n",
        "\n",
        "# After building a model against the training set, test that model\n",
        "# against the test set.\n",
        "test_features = {name:np.array(value) for name, value in test_df_norm.items()}\n",
        "test_label = np.array(test_features.pop(label_name)) # isolate the label\n",
        "print(\"\\n Evaluate the new model against the test set:\")\n",
        "my_model.evaluate(x = test_features, y = test_label, batch_size=batch_size)"
      ]
    },
    {
      "cell_type": "markdown",
      "metadata": {
        "id": "wlPXK-SmmjQ2"
      },
      "source": [
        "## Task 1: Compare the two models\n",
        "\n",
        "How did the deep neural net perform against the baseline linear regression model?"
      ]
    },
    {
      "cell_type": "code",
      "execution_count": 14,
      "metadata": {
        "id": "hI7ojsL7nnBE"
      },
      "outputs": [],
      "source": [
        "#@title Double-click to view a possible answer\n",
        "\n",
        "# Assuming that the linear model converged and\n",
        "# the deep neural net model also converged, please \n",
        "# compare the test set loss for each.\n",
        "# In our experiments, the loss of the deep neural \n",
        "# network model was consistently lower than \n",
        "# that of the linear regression model, which \n",
        "# suggests that the deep neural network model \n",
        "# will make better predictions than the \n",
        "# linear regression model."
      ]
    },
    {
      "cell_type": "markdown",
      "metadata": {
        "id": "Y5IKmk7D49_n"
      },
      "source": [
        "## Task 2: Optimize the deep neural network's topography\n",
        "\n",
        "Experiment with the number of layers of the deep neural network and the number of nodes in each layer.  Aim to achieve both of the following goals:\n",
        "\n",
        "*  Lower the loss against the test set.\n",
        "*  Minimize the overall number of nodes in the deep neural net. \n",
        "\n",
        "The two goals may be in conflict."
      ]
    },
    {
      "cell_type": "code",
      "execution_count": 15,
      "metadata": {
        "id": "wYG5qXpP5a9n"
      },
      "outputs": [],
      "source": [
        "#@title Double-click to view a possible answer\n",
        "\n",
        "# Many answers are possible.  We noticed the \n",
        "# following trends:\n",
        "#   * Two layers outperformed one layer, but \n",
        "#     three layers did not perform significantly \n",
        "#     better than two layers.\n",
        "#     In other words, two layers seemed best. \n",
        "#   * Setting the topography as follows produced \n",
        "#     reasonably good results with relatively few \n",
        "#     nodes:\n",
        "#       * 10 nodes in the first layer.\n",
        "#       *  6 nodes in the second layer.\n",
        "#     As the number of nodes in each layer dropped\n",
        "#     below the preceding, test loss increased.  \n",
        "#     However, depending on your application, hardware\n",
        "#     constraints, and the relative pain inflicted \n",
        "#     by a less accurate model, a smaller network \n",
        "#     (for example, 6 nodes in the first layer and \n",
        "#     4 nodes in the second layer) might be \n",
        "#     acceptable."
      ]
    },
    {
      "cell_type": "markdown",
      "metadata": {
        "id": "Pu7R_ZpDopIj"
      },
      "source": [
        "## Task 3: Regularize the deep neural network (if you have enough time)\n",
        "\n",
        "Notice that the model's loss against the test set is *much higher* than the loss against the training set.  In other words, the deep neural network is [overfitting](https://developers.google.com/machine-learning/glossary/#overfitting) to the data in the training set.  To reduce overfitting, regularize the model.  The course has suggested several different ways to regularize a model, including:\n",
        "\n",
        "  * [L1 regularization](https://developers.google.com/machine-learning/glossary/#L1_regularization)\n",
        "  * [L2 regularization](https://developers.google.com/machine-learning/glossary/#L2_regularization)\n",
        "  * [Dropout regularization](https://developers.google.com/machine-learning/glossary/#dropout_regularization)\n",
        "\n",
        "Your task is to experiment with one or more regularization mechanisms to bring the test loss closer to the training loss (while still keeping test loss relatively low).  \n",
        "\n",
        "**Note:** When you add a regularization function to a model, you might need to tweak other hyperparameters. \n",
        "\n",
        "### Implementing L1 or L2 regularization\n",
        "\n",
        "To use L1 or L2 regularization on a hidden layer, specify the `kernel_regularizer` argument to [tf.keras.layers.Dense](https://www.tensorflow.org/api_docs/python/tf/keras/layers/Dense). Assign one of the following methods to this argument:\n",
        "\n",
        "* `tf.keras.regularizers.l1` for L1 regularization\n",
        "* `tf.keras.regularizers.l2` for L2 regularization\n",
        "\n",
        "Each of the preceding methods takes an `l` parameter, which adjusts the [regularization rate](https://developers.google.com/machine-learning/glossary/#regularization_rate). Assign a decimal value between 0 and 1.0 to `l`; the higher the decimal, the greater the regularization. For example, the following applies L2 regularization at a strength of 0.01. \n",
        "\n",
        "```\n",
        "model.add(tf.keras.layers.Dense(units=20, \n",
        "                                activation='relu',\n",
        "                                kernel_regularizer=tf.keras.regularizers.l2(l=0.01),\n",
        "                                name='Hidden1'))\n",
        "```\n",
        "\n",
        "### Implementing Dropout regularization\n",
        "\n",
        "You implement dropout regularization as a separate layer in the topography. For example, the following code demonstrates how to add a dropout regularization layer between the first hidden layer and the second hidden layer:\n",
        "\n",
        "```\n",
        "model.add(tf.keras.layers.Dense( *define first hidden layer*)\n",
        " \n",
        "model.add(tf.keras.layers.Dropout(rate=0.25))\n",
        "\n",
        "model.add(tf.keras.layers.Dense( *define second hidden layer*)\n",
        "```\n",
        "\n",
        "The `rate` parameter to [tf.keras.layers.Dropout](https://www.tensorflow.org/api_docs/python/tf/keras/layers/Dropout) specifies the fraction of nodes that the model should drop out during training. \n"
      ]
    },
    {
      "cell_type": "code",
      "execution_count": 16,
      "metadata": {
        "id": "tflt9TZEDARW",
        "colab": {
          "base_uri": "https://localhost:8080/",
          "height": 1000
        },
        "outputId": "60fa9a58-8466-45be-ef7e-04a70226cc71"
      },
      "outputs": [
        {
          "output_type": "stream",
          "name": "stdout",
          "text": [
            "Epoch 1/140\n"
          ]
        },
        {
          "output_type": "stream",
          "name": "stderr",
          "text": [
            "WARNING:tensorflow:Layers in a Sequential model should only have a single input tensor. Received: inputs={'longitude': <tf.Tensor 'IteratorGetNext:3' shape=(1000,) dtype=float32>, 'latitude': <tf.Tensor 'IteratorGetNext:2' shape=(1000,) dtype=float32>, 'housing_median_age': <tf.Tensor 'IteratorGetNext:1' shape=(1000,) dtype=float32>, 'total_rooms': <tf.Tensor 'IteratorGetNext:7' shape=(1000,) dtype=float32>, 'total_bedrooms': <tf.Tensor 'IteratorGetNext:6' shape=(1000,) dtype=float32>, 'population': <tf.Tensor 'IteratorGetNext:5' shape=(1000,) dtype=float32>, 'households': <tf.Tensor 'IteratorGetNext:0' shape=(1000,) dtype=float32>, 'median_income': <tf.Tensor 'IteratorGetNext:4' shape=(1000,) dtype=float32>}. Consider rewriting this model with the Functional API.\n",
            "WARNING:tensorflow:Layers in a Sequential model should only have a single input tensor. Received: inputs={'longitude': <tf.Tensor 'IteratorGetNext:3' shape=(1000,) dtype=float32>, 'latitude': <tf.Tensor 'IteratorGetNext:2' shape=(1000,) dtype=float32>, 'housing_median_age': <tf.Tensor 'IteratorGetNext:1' shape=(1000,) dtype=float32>, 'total_rooms': <tf.Tensor 'IteratorGetNext:7' shape=(1000,) dtype=float32>, 'total_bedrooms': <tf.Tensor 'IteratorGetNext:6' shape=(1000,) dtype=float32>, 'population': <tf.Tensor 'IteratorGetNext:5' shape=(1000,) dtype=float32>, 'households': <tf.Tensor 'IteratorGetNext:0' shape=(1000,) dtype=float32>, 'median_income': <tf.Tensor 'IteratorGetNext:4' shape=(1000,) dtype=float32>}. Consider rewriting this model with the Functional API.\n"
          ]
        },
        {
          "output_type": "stream",
          "name": "stdout",
          "text": [
            "17/17 [==============================] - 1s 4ms/step - loss: 1.9064 - mean_squared_error: 0.8234\n",
            "Epoch 2/140\n",
            "17/17 [==============================] - 0s 3ms/step - loss: 0.8288 - mean_squared_error: 0.5077\n",
            "Epoch 3/140\n",
            "17/17 [==============================] - 0s 2ms/step - loss: 0.6134 - mean_squared_error: 0.4532\n",
            "Epoch 4/140\n",
            "17/17 [==============================] - 0s 3ms/step - loss: 0.5466 - mean_squared_error: 0.4345\n",
            "Epoch 5/140\n",
            "17/17 [==============================] - 0s 3ms/step - loss: 0.5080 - mean_squared_error: 0.4200\n",
            "Epoch 6/140\n",
            "17/17 [==============================] - 0s 3ms/step - loss: 0.4918 - mean_squared_error: 0.4111\n",
            "Epoch 7/140\n",
            "17/17 [==============================] - 0s 3ms/step - loss: 0.4796 - mean_squared_error: 0.4073\n",
            "Epoch 8/140\n",
            "17/17 [==============================] - 0s 3ms/step - loss: 0.4743 - mean_squared_error: 0.4040\n",
            "Epoch 9/140\n",
            "17/17 [==============================] - 0s 3ms/step - loss: 0.4679 - mean_squared_error: 0.4002\n",
            "Epoch 10/140\n",
            "17/17 [==============================] - 0s 3ms/step - loss: 0.4625 - mean_squared_error: 0.3974\n",
            "Epoch 11/140\n",
            "17/17 [==============================] - 0s 3ms/step - loss: 0.4587 - mean_squared_error: 0.3941\n",
            "Epoch 12/140\n",
            "17/17 [==============================] - 0s 2ms/step - loss: 0.4625 - mean_squared_error: 0.3993\n",
            "Epoch 13/140\n",
            "17/17 [==============================] - 0s 3ms/step - loss: 0.4616 - mean_squared_error: 0.3994\n",
            "Epoch 14/140\n",
            "17/17 [==============================] - 0s 3ms/step - loss: 0.4576 - mean_squared_error: 0.3953\n",
            "Epoch 15/140\n",
            "17/17 [==============================] - 0s 3ms/step - loss: 0.4504 - mean_squared_error: 0.3904\n",
            "Epoch 16/140\n",
            "17/17 [==============================] - 0s 3ms/step - loss: 0.4493 - mean_squared_error: 0.3890\n",
            "Epoch 17/140\n",
            "17/17 [==============================] - 0s 2ms/step - loss: 0.4477 - mean_squared_error: 0.3883\n",
            "Epoch 18/140\n",
            "17/17 [==============================] - 0s 3ms/step - loss: 0.4484 - mean_squared_error: 0.3893\n",
            "Epoch 19/140\n",
            "17/17 [==============================] - 0s 3ms/step - loss: 0.4465 - mean_squared_error: 0.3879\n",
            "Epoch 20/140\n",
            "17/17 [==============================] - 0s 3ms/step - loss: 0.4433 - mean_squared_error: 0.3862\n",
            "Epoch 21/140\n",
            "17/17 [==============================] - 0s 3ms/step - loss: 0.4431 - mean_squared_error: 0.3867\n",
            "Epoch 22/140\n",
            "17/17 [==============================] - 0s 3ms/step - loss: 0.4413 - mean_squared_error: 0.3847\n",
            "Epoch 23/140\n",
            "17/17 [==============================] - 0s 3ms/step - loss: 0.4401 - mean_squared_error: 0.3847\n",
            "Epoch 24/140\n",
            "17/17 [==============================] - 0s 3ms/step - loss: 0.4429 - mean_squared_error: 0.3865\n",
            "Epoch 25/140\n",
            "17/17 [==============================] - 0s 3ms/step - loss: 0.4431 - mean_squared_error: 0.3880\n",
            "Epoch 26/140\n",
            "17/17 [==============================] - 0s 3ms/step - loss: 0.4412 - mean_squared_error: 0.3846\n",
            "Epoch 27/140\n",
            "17/17 [==============================] - 0s 3ms/step - loss: 0.4384 - mean_squared_error: 0.3848\n",
            "Epoch 28/140\n",
            "17/17 [==============================] - 0s 3ms/step - loss: 0.4389 - mean_squared_error: 0.3847\n",
            "Epoch 29/140\n",
            "17/17 [==============================] - 0s 2ms/step - loss: 0.4390 - mean_squared_error: 0.3844\n",
            "Epoch 30/140\n",
            "17/17 [==============================] - 0s 3ms/step - loss: 0.4397 - mean_squared_error: 0.3871\n",
            "Epoch 31/140\n",
            "17/17 [==============================] - 0s 2ms/step - loss: 0.4361 - mean_squared_error: 0.3830\n",
            "Epoch 32/140\n",
            "17/17 [==============================] - 0s 3ms/step - loss: 0.4351 - mean_squared_error: 0.3823\n",
            "Epoch 33/140\n",
            "17/17 [==============================] - 0s 2ms/step - loss: 0.4329 - mean_squared_error: 0.3806\n",
            "Epoch 34/140\n",
            "17/17 [==============================] - 0s 3ms/step - loss: 0.4341 - mean_squared_error: 0.3825\n",
            "Epoch 35/140\n",
            "17/17 [==============================] - 0s 3ms/step - loss: 0.4366 - mean_squared_error: 0.3837\n",
            "Epoch 36/140\n",
            "17/17 [==============================] - 0s 3ms/step - loss: 0.4284 - mean_squared_error: 0.3767\n",
            "Epoch 37/140\n",
            "17/17 [==============================] - 0s 3ms/step - loss: 0.4264 - mean_squared_error: 0.3761\n",
            "Epoch 38/140\n",
            "17/17 [==============================] - 0s 2ms/step - loss: 0.4278 - mean_squared_error: 0.3768\n",
            "Epoch 39/140\n",
            "17/17 [==============================] - 0s 2ms/step - loss: 0.4299 - mean_squared_error: 0.3809\n",
            "Epoch 40/140\n",
            "17/17 [==============================] - 0s 2ms/step - loss: 0.4305 - mean_squared_error: 0.3804\n",
            "Epoch 41/140\n",
            "17/17 [==============================] - 0s 2ms/step - loss: 0.4293 - mean_squared_error: 0.3799\n",
            "Epoch 42/140\n",
            "17/17 [==============================] - 0s 2ms/step - loss: 0.4246 - mean_squared_error: 0.3752\n",
            "Epoch 43/140\n",
            "17/17 [==============================] - 0s 4ms/step - loss: 0.4254 - mean_squared_error: 0.3757\n",
            "Epoch 44/140\n",
            "17/17 [==============================] - 0s 2ms/step - loss: 0.4297 - mean_squared_error: 0.3804\n",
            "Epoch 45/140\n",
            "17/17 [==============================] - 0s 2ms/step - loss: 0.4289 - mean_squared_error: 0.3799\n",
            "Epoch 46/140\n",
            "17/17 [==============================] - 0s 4ms/step - loss: 0.4243 - mean_squared_error: 0.3763\n",
            "Epoch 47/140\n",
            "17/17 [==============================] - 0s 4ms/step - loss: 0.4266 - mean_squared_error: 0.3770\n",
            "Epoch 48/140\n",
            "17/17 [==============================] - 0s 4ms/step - loss: 0.4280 - mean_squared_error: 0.3812\n",
            "Epoch 49/140\n",
            "17/17 [==============================] - 0s 4ms/step - loss: 0.4261 - mean_squared_error: 0.3787\n",
            "Epoch 50/140\n",
            "17/17 [==============================] - 0s 4ms/step - loss: 0.4247 - mean_squared_error: 0.3777\n",
            "Epoch 51/140\n",
            "17/17 [==============================] - 0s 4ms/step - loss: 0.4232 - mean_squared_error: 0.3768\n",
            "Epoch 52/140\n",
            "17/17 [==============================] - 0s 4ms/step - loss: 0.4214 - mean_squared_error: 0.3736\n",
            "Epoch 53/140\n",
            "17/17 [==============================] - 0s 4ms/step - loss: 0.4276 - mean_squared_error: 0.3820\n",
            "Epoch 54/140\n",
            "17/17 [==============================] - 0s 4ms/step - loss: 0.4216 - mean_squared_error: 0.3745\n",
            "Epoch 55/140\n",
            "17/17 [==============================] - 0s 4ms/step - loss: 0.4252 - mean_squared_error: 0.3797\n",
            "Epoch 56/140\n",
            "17/17 [==============================] - 0s 4ms/step - loss: 0.4250 - mean_squared_error: 0.3793\n",
            "Epoch 57/140\n",
            "17/17 [==============================] - 0s 5ms/step - loss: 0.4234 - mean_squared_error: 0.3783\n",
            "Epoch 58/140\n",
            "17/17 [==============================] - 0s 4ms/step - loss: 0.4228 - mean_squared_error: 0.3773\n",
            "Epoch 59/140\n",
            "17/17 [==============================] - 0s 5ms/step - loss: 0.4207 - mean_squared_error: 0.3755\n",
            "Epoch 60/140\n",
            "17/17 [==============================] - 0s 5ms/step - loss: 0.4220 - mean_squared_error: 0.3755\n",
            "Epoch 61/140\n",
            "17/17 [==============================] - 0s 5ms/step - loss: 0.4180 - mean_squared_error: 0.3738\n",
            "Epoch 62/140\n",
            "17/17 [==============================] - 0s 4ms/step - loss: 0.4219 - mean_squared_error: 0.3777\n",
            "Epoch 63/140\n",
            "17/17 [==============================] - 0s 4ms/step - loss: 0.4220 - mean_squared_error: 0.3777\n",
            "Epoch 64/140\n",
            "17/17 [==============================] - 0s 4ms/step - loss: 0.4181 - mean_squared_error: 0.3735\n",
            "Epoch 65/140\n",
            "17/17 [==============================] - 0s 4ms/step - loss: 0.4192 - mean_squared_error: 0.3747\n",
            "Epoch 66/140\n",
            "17/17 [==============================] - 0s 4ms/step - loss: 0.4197 - mean_squared_error: 0.3757\n",
            "Epoch 67/140\n",
            "17/17 [==============================] - 0s 4ms/step - loss: 0.4176 - mean_squared_error: 0.3748\n",
            "Epoch 68/140\n",
            "17/17 [==============================] - 0s 4ms/step - loss: 0.4209 - mean_squared_error: 0.3780\n",
            "Epoch 69/140\n",
            "17/17 [==============================] - 0s 4ms/step - loss: 0.4175 - mean_squared_error: 0.3735\n",
            "Epoch 70/140\n",
            "17/17 [==============================] - 0s 4ms/step - loss: 0.4206 - mean_squared_error: 0.3778\n",
            "Epoch 71/140\n",
            "17/17 [==============================] - 0s 3ms/step - loss: 0.4200 - mean_squared_error: 0.3774\n",
            "Epoch 72/140\n",
            "17/17 [==============================] - 0s 3ms/step - loss: 0.4171 - mean_squared_error: 0.3738\n",
            "Epoch 73/140\n",
            "17/17 [==============================] - 0s 3ms/step - loss: 0.4193 - mean_squared_error: 0.3767\n",
            "Epoch 74/140\n",
            "17/17 [==============================] - 0s 3ms/step - loss: 0.4210 - mean_squared_error: 0.3786\n",
            "Epoch 75/140\n",
            "17/17 [==============================] - 0s 3ms/step - loss: 0.4183 - mean_squared_error: 0.3738\n",
            "Epoch 76/140\n",
            "17/17 [==============================] - 0s 3ms/step - loss: 0.4149 - mean_squared_error: 0.3732\n",
            "Epoch 77/140\n",
            "17/17 [==============================] - 0s 3ms/step - loss: 0.4152 - mean_squared_error: 0.3733\n",
            "Epoch 78/140\n",
            "17/17 [==============================] - 0s 3ms/step - loss: 0.4145 - mean_squared_error: 0.3732\n",
            "Epoch 79/140\n",
            "17/17 [==============================] - 0s 2ms/step - loss: 0.4194 - mean_squared_error: 0.3776\n",
            "Epoch 80/140\n",
            "17/17 [==============================] - 0s 3ms/step - loss: 0.4181 - mean_squared_error: 0.3766\n",
            "Epoch 81/140\n",
            "17/17 [==============================] - 0s 3ms/step - loss: 0.4177 - mean_squared_error: 0.3754\n",
            "Epoch 82/140\n",
            "17/17 [==============================] - 0s 3ms/step - loss: 0.4142 - mean_squared_error: 0.3728\n",
            "Epoch 83/140\n",
            "17/17 [==============================] - 0s 3ms/step - loss: 0.4129 - mean_squared_error: 0.3716\n",
            "Epoch 84/140\n",
            "17/17 [==============================] - 0s 3ms/step - loss: 0.4130 - mean_squared_error: 0.3714\n",
            "Epoch 85/140\n",
            "17/17 [==============================] - 0s 3ms/step - loss: 0.4136 - mean_squared_error: 0.3725\n",
            "Epoch 86/140\n",
            "17/17 [==============================] - 0s 3ms/step - loss: 0.4151 - mean_squared_error: 0.3745\n",
            "Epoch 87/140\n",
            "17/17 [==============================] - 0s 3ms/step - loss: 0.4182 - mean_squared_error: 0.3767\n",
            "Epoch 88/140\n",
            "17/17 [==============================] - 0s 3ms/step - loss: 0.4167 - mean_squared_error: 0.3748\n",
            "Epoch 89/140\n",
            "17/17 [==============================] - 0s 3ms/step - loss: 0.4124 - mean_squared_error: 0.3718\n",
            "Epoch 90/140\n",
            "17/17 [==============================] - 0s 4ms/step - loss: 0.4132 - mean_squared_error: 0.3720\n",
            "Epoch 91/140\n",
            "17/17 [==============================] - 0s 3ms/step - loss: 0.4163 - mean_squared_error: 0.3754\n",
            "Epoch 92/140\n",
            "17/17 [==============================] - 0s 3ms/step - loss: 0.4176 - mean_squared_error: 0.3769\n",
            "Epoch 93/140\n",
            "17/17 [==============================] - 0s 3ms/step - loss: 0.4142 - mean_squared_error: 0.3738\n",
            "Epoch 94/140\n",
            "17/17 [==============================] - 0s 3ms/step - loss: 0.4146 - mean_squared_error: 0.3746\n",
            "Epoch 95/140\n",
            "17/17 [==============================] - 0s 3ms/step - loss: 0.4146 - mean_squared_error: 0.3741\n",
            "Epoch 96/140\n",
            "17/17 [==============================] - 0s 3ms/step - loss: 0.4165 - mean_squared_error: 0.3768\n",
            "Epoch 97/140\n",
            "17/17 [==============================] - 0s 3ms/step - loss: 0.4113 - mean_squared_error: 0.3718\n",
            "Epoch 98/140\n",
            "17/17 [==============================] - 0s 3ms/step - loss: 0.4113 - mean_squared_error: 0.3725\n",
            "Epoch 99/140\n",
            "17/17 [==============================] - 0s 4ms/step - loss: 0.4147 - mean_squared_error: 0.3748\n",
            "Epoch 100/140\n",
            "17/17 [==============================] - 0s 3ms/step - loss: 0.4148 - mean_squared_error: 0.3749\n",
            "Epoch 101/140\n",
            "17/17 [==============================] - 0s 3ms/step - loss: 0.4139 - mean_squared_error: 0.3743\n",
            "Epoch 102/140\n",
            "17/17 [==============================] - 0s 3ms/step - loss: 0.4153 - mean_squared_error: 0.3760\n",
            "Epoch 103/140\n",
            "17/17 [==============================] - 0s 3ms/step - loss: 0.4131 - mean_squared_error: 0.3731\n",
            "Epoch 104/140\n",
            "17/17 [==============================] - 0s 3ms/step - loss: 0.4113 - mean_squared_error: 0.3723\n",
            "Epoch 105/140\n",
            "17/17 [==============================] - 0s 4ms/step - loss: 0.4114 - mean_squared_error: 0.3722\n",
            "Epoch 106/140\n",
            "17/17 [==============================] - 0s 3ms/step - loss: 0.4108 - mean_squared_error: 0.3711\n",
            "Epoch 107/140\n",
            "17/17 [==============================] - 0s 3ms/step - loss: 0.4152 - mean_squared_error: 0.3765\n",
            "Epoch 108/140\n",
            "17/17 [==============================] - 0s 3ms/step - loss: 0.4117 - mean_squared_error: 0.3731\n",
            "Epoch 109/140\n",
            "17/17 [==============================] - 0s 3ms/step - loss: 0.4068 - mean_squared_error: 0.3676\n",
            "Epoch 110/140\n",
            "17/17 [==============================] - 0s 3ms/step - loss: 0.4146 - mean_squared_error: 0.3756\n",
            "Epoch 111/140\n",
            "17/17 [==============================] - 0s 3ms/step - loss: 0.4099 - mean_squared_error: 0.3715\n",
            "Epoch 112/140\n",
            "17/17 [==============================] - 0s 3ms/step - loss: 0.4134 - mean_squared_error: 0.3749\n",
            "Epoch 113/140\n",
            "17/17 [==============================] - 0s 3ms/step - loss: 0.4104 - mean_squared_error: 0.3720\n",
            "Epoch 114/140\n",
            "17/17 [==============================] - 0s 2ms/step - loss: 0.4093 - mean_squared_error: 0.3706\n",
            "Epoch 115/140\n",
            "17/17 [==============================] - 0s 3ms/step - loss: 0.4122 - mean_squared_error: 0.3746\n",
            "Epoch 116/140\n",
            "17/17 [==============================] - 0s 3ms/step - loss: 0.4139 - mean_squared_error: 0.3757\n",
            "Epoch 117/140\n",
            "17/17 [==============================] - 0s 2ms/step - loss: 0.4083 - mean_squared_error: 0.3698\n",
            "Epoch 118/140\n",
            "17/17 [==============================] - 0s 3ms/step - loss: 0.4085 - mean_squared_error: 0.3709\n",
            "Epoch 119/140\n",
            "17/17 [==============================] - 0s 3ms/step - loss: 0.4136 - mean_squared_error: 0.3752\n",
            "Epoch 120/140\n",
            "17/17 [==============================] - 0s 3ms/step - loss: 0.4088 - mean_squared_error: 0.3710\n",
            "Epoch 121/140\n",
            "17/17 [==============================] - 0s 4ms/step - loss: 0.4078 - mean_squared_error: 0.3704\n",
            "Epoch 122/140\n",
            "17/17 [==============================] - 0s 3ms/step - loss: 0.4056 - mean_squared_error: 0.3686\n",
            "Epoch 123/140\n",
            "17/17 [==============================] - 0s 3ms/step - loss: 0.4188 - mean_squared_error: 0.3817\n",
            "Epoch 124/140\n",
            "17/17 [==============================] - 0s 3ms/step - loss: 0.4107 - mean_squared_error: 0.3730\n",
            "Epoch 125/140\n",
            "17/17 [==============================] - 0s 3ms/step - loss: 0.4092 - mean_squared_error: 0.3726\n",
            "Epoch 126/140\n",
            "17/17 [==============================] - 0s 3ms/step - loss: 0.4071 - mean_squared_error: 0.3695\n",
            "Epoch 127/140\n",
            "17/17 [==============================] - 0s 4ms/step - loss: 0.4114 - mean_squared_error: 0.3739\n",
            "Epoch 128/140\n",
            "17/17 [==============================] - 0s 2ms/step - loss: 0.4091 - mean_squared_error: 0.3731\n",
            "Epoch 129/140\n",
            "17/17 [==============================] - 0s 3ms/step - loss: 0.4059 - mean_squared_error: 0.3680\n",
            "Epoch 130/140\n",
            "17/17 [==============================] - 0s 3ms/step - loss: 0.4059 - mean_squared_error: 0.3693\n",
            "Epoch 131/140\n",
            "17/17 [==============================] - 0s 3ms/step - loss: 0.4070 - mean_squared_error: 0.3707\n",
            "Epoch 132/140\n",
            "17/17 [==============================] - 0s 3ms/step - loss: 0.4068 - mean_squared_error: 0.3698\n",
            "Epoch 133/140\n",
            "17/17 [==============================] - 0s 3ms/step - loss: 0.4069 - mean_squared_error: 0.3708\n",
            "Epoch 134/140\n",
            "17/17 [==============================] - 0s 3ms/step - loss: 0.4077 - mean_squared_error: 0.3702\n",
            "Epoch 135/140\n",
            "17/17 [==============================] - 0s 3ms/step - loss: 0.4064 - mean_squared_error: 0.3698\n",
            "Epoch 136/140\n",
            "17/17 [==============================] - 0s 3ms/step - loss: 0.4106 - mean_squared_error: 0.3744\n",
            "Epoch 137/140\n",
            "17/17 [==============================] - 0s 3ms/step - loss: 0.4035 - mean_squared_error: 0.3665\n",
            "Epoch 138/140\n",
            "17/17 [==============================] - 0s 3ms/step - loss: 0.4072 - mean_squared_error: 0.3707\n",
            "Epoch 139/140\n",
            "17/17 [==============================] - 0s 3ms/step - loss: 0.4052 - mean_squared_error: 0.3686\n",
            "Epoch 140/140\n",
            "17/17 [==============================] - 0s 3ms/step - loss: 0.4086 - mean_squared_error: 0.3720\n"
          ]
        },
        {
          "output_type": "display_data",
          "data": {
            "text/plain": [
              "<Figure size 432x288 with 1 Axes>"
            ],
            "image/png": "[encoded data removed]"
          },
          "metadata": {
            "needs_background": "light"
          }
        },
        {
          "output_type": "stream",
          "name": "stdout",
          "text": [
            "\n",
            " Evaluate the new model against the test set:\n"
          ]
        },
        {
          "output_type": "stream",
          "name": "stderr",
          "text": [
            "WARNING:tensorflow:Layers in a Sequential model should only have a single input tensor. Received: inputs={'longitude': <tf.Tensor 'IteratorGetNext:3' shape=(1000,) dtype=float32>, 'latitude': <tf.Tensor 'IteratorGetNext:2' shape=(1000,) dtype=float32>, 'housing_median_age': <tf.Tensor 'IteratorGetNext:1' shape=(1000,) dtype=float32>, 'total_rooms': <tf.Tensor 'IteratorGetNext:7' shape=(1000,) dtype=float32>, 'total_bedrooms': <tf.Tensor 'IteratorGetNext:6' shape=(1000,) dtype=float32>, 'population': <tf.Tensor 'IteratorGetNext:5' shape=(1000,) dtype=float32>, 'households': <tf.Tensor 'IteratorGetNext:0' shape=(1000,) dtype=float32>, 'median_income': <tf.Tensor 'IteratorGetNext:4' shape=(1000,) dtype=float32>}. Consider rewriting this model with the Functional API.\n"
          ]
        },
        {
          "output_type": "stream",
          "name": "stdout",
          "text": [
            "3/3 [==============================] - 0s 4ms/step - loss: 0.4097 - mean_squared_error: 0.3734\n"
          ]
        },
        {
          "output_type": "execute_result",
          "data": {
            "text/plain": [
              "[0.40969961881637573, 0.3733941316604614]"
            ]
          },
          "metadata": {},
          "execution_count": 16
        }
      ],
      "source": [
        "#@title Double-click for a possible solution\n",
        "\n",
        "# The following \"solution\" uses L2 regularization to bring training loss\n",
        "# and test loss closer to each other. Many, many other solutions are possible.\n",
        "\n",
        "\n",
        "def create_model(my_learning_rate, my_feature_layer):\n",
        "  \"\"\"Create and compile a simple linear regression model.\"\"\"\n",
        "\n",
        "  # Discard any pre-existing version of the model.\n",
        "  model = None\n",
        "\n",
        "  # Most simple tf.keras models are sequential.\n",
        "  model = tf.keras.models.Sequential()\n",
        "\n",
        "  # Add the layer containing the feature columns to the model.\n",
        "  model.add(my_feature_layer)\n",
        "\n",
        "  # Describe the topography of the model. \n",
        "\n",
        "  # Implement L2 regularization in the first hidden layer.\n",
        "  model.add(tf.keras.layers.Dense(units=20, \n",
        "                                  activation='relu',\n",
        "                                  kernel_regularizer=tf.keras.regularizers.l2(0.04),\n",
        "                                  name='Hidden1'))\n",
        "  model.add(tf.keras.layers.Dropout(rate=0.25))\n",
        "  # Implement L2 regularization in the second hidden layer.\n",
        "  model.add(tf.keras.layers.Dense(units=12, \n",
        "                                  activation='relu', \n",
        "                                  kernel_regularizer=tf.keras.regularizers.l2(0.04),\n",
        "                                  name='Hidden2'))\n",
        "\n",
        "  # Define the output layer.\n",
        "  model.add(tf.keras.layers.Dense(units=1,  \n",
        "                                  name='Output'))                              \n",
        "  \n",
        "  model.compile(optimizer=tf.keras.optimizers.Adam(learning_rate=my_learning_rate),\n",
        "                loss=\"mean_squared_error\",\n",
        "                metrics=[tf.keras.metrics.MeanSquaredError()])\n",
        "\n",
        "  return model     \n",
        "\n",
        "# Call the new create_model function and the other (unchanged) functions.\n",
        "\n",
        "# The following variables are the hyperparameters.\n",
        "learning_rate = 0.007\n",
        "epochs = 140\n",
        "batch_size = 1000\n",
        "\n",
        "label_name = \"median_house_value\"\n",
        "\n",
        "# Establish the model's topography.\n",
        "my_model = create_model(learning_rate, my_feature_layer)\n",
        "\n",
        "# Train the model on the normalized training set.\n",
        "epochs, mse = train_model(my_model, train_df_norm, epochs, \n",
        "                          label_name, batch_size)\n",
        "plot_the_loss_curve(epochs, mse)\n",
        "\n",
        "test_features = {name:np.array(value) for name, value in test_df_norm.items()}\n",
        "test_label = np.array(test_features.pop(label_name)) # isolate the label\n",
        "print(\"\\n Evaluate the new model against the test set:\")\n",
        "my_model.evaluate(x = test_features, y = test_label, batch_size=batch_size) "
      ]
    }
  ],
  "metadata": {
    "colab": {
      "provenance": [],
      "include_colab_link": true
    },
    "kernelspec": {
      "display_name": "Python 3",
      "name": "python3"
    },
    "gpuClass": "standard"
  },
  "nbformat": 4,
  "nbformat_minor": 0
}